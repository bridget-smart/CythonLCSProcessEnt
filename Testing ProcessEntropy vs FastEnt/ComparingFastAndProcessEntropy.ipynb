{
 "cells": [
  {
   "cell_type": "code",
   "execution_count": 1,
   "metadata": {},
   "outputs": [],
   "source": [
    "\"\"\"\n",
    "Preamble for most code and jupyter notebooks\n",
    "@author: bridgetsmart\n",
    "@notebook date: 10 Feb 2023\n",
    "\"\"\"\n",
    "\n",
    "import numpy as np\n",
    "import matplotlib.pyplot as plt\n",
    "import matplotlib as mpl\n",
    "\n",
    "import math, string, re, pickle, json, time, os, sys, datetime, itertools\n"
   ]
  },
  {
   "attachments": {},
   "cell_type": "markdown",
   "metadata": {},
   "source": [
    "# Investigation of Process Entropy, Self Entropy (notes in overleaf)"
   ]
  },
  {
   "cell_type": "code",
   "execution_count": 2,
   "metadata": {},
   "outputs": [
    {
     "name": "stdout",
     "output_type": "stream",
     "text": [
      "[1. 1. 1. 1. 1. 1. 1. 1. 1.]\n"
     ]
    }
   ],
   "source": [
    "source = np.ones(9)\n",
    "print(source)"
   ]
  },
  {
   "cell_type": "code",
   "execution_count": null,
   "metadata": {},
   "outputs": [],
   "source": [
    "N = len(source)\n",
    "\n",
    "for i in range(1, N): \n",
    "\n",
    "    # The target process is everything ahead of i.\n",
    "    t_max = 0\n",
    "    c_max = 0\n",
    "\n",
    "    for j in range(0, i): # Look back at the past # SOURCE\n",
    "        if source[j] == source[i]: # Check if matches future's next element\n",
    "            c_max = 1\n",
    "            for k in range(1,min(N-i, i-j)): # Look through more of future\n",
    "                if source[j+k] != source[i+k]:\n",
    "                    break\n",
    "                else:\n",
    "                    c_max = c_max+1\n",
    "\n",
    "            if c_max > t_max:\n",
    "                t_max = c_max \n",
    "\n",
    "    lambdas[i] = t_max+1"
   ]
  },
  {
   "cell_type": "markdown",
   "metadata": {},
   "source": [
    "target is i to k\n",
    "source j to k\n",
    "\n",
    "# start of source is ok\n",
    "K goes from 0 to (N-2)/2+1 (WE TAKE THE MINIMUM)\n",
    "\n",
    "condition 1 goes from N-1 to 0 \n",
    "condition 2 goes from 1 to N\n",
    "\n"
   ]
  },
  {
   "cell_type": "code",
   "execution_count": 4,
   "metadata": {},
   "outputs": [
    {
     "name": "stdout",
     "output_type": "stream",
     "text": [
      "i: 5, j: 0, k: 3, N-i: 4, i-j: 5 i+k: 1.0, j+k: 1.0\n",
      "| | | | | s s s s\n",
      "t t t t | | | | |\n",
      "\n",
      "\n",
      "i: 5, j: 1, k: 3, N-i: 4, i-j: 4 i+k: 1.0, j+k: 1.0\n",
      "| | | | | s s s s\n",
      "| t t t t | | | |\n",
      "\n",
      "\n",
      "i: 5, j: 2, k: 2, N-i: 4, i-j: 3 i+k: 1.0, j+k: 1.0\n",
      "| | | | | s s s |\n",
      "| | t t t | | | |\n",
      "\n",
      "\n",
      "i: 5, j: 3, k: 1, N-i: 4, i-j: 2 i+k: 1.0, j+k: 1.0\n",
      "| | | | | s s | |\n",
      "| | | t t | | | |\n",
      "\n",
      "\n",
      "i: 5, j: 4, k: 0, N-i: 4, i-j: 1 i+k: 1.0, j+k: 1.0\n",
      "| | | | | s | | |\n",
      "| | | | t | | | |\n",
      "\n",
      "\n"
     ]
    }
   ],
   "source": [
    "N = len(source)\n",
    "\n",
    "# for i in range(1,N):\n",
    "i=5\n",
    "for j in range(0,i):\n",
    "    k = np.min([N-i,i-j])-1\n",
    "    print(f'i: {i}, j: {j}, k: {k}, N-i: {N-i}, i-j: {i-j} i+k: {source[i+k]}, j+k: {source[j+k]}')\n",
    "\n",
    "    s_li = ['|']*N\n",
    "    t_li = ['|']*N\n",
    "\n",
    "    s_li[i:i+k+1] = 's'*len(s_li[i:i+k+1])\n",
    "    t_li[j:j+k+1] = 't'*len(t_li[j:j+k+1])\n",
    "\n",
    "\n",
    "    print(\" \".join(s_li))\n",
    "    print(\" \".join(t_li))\n",
    "    print(\"\\n\")\n",
    "\n"
   ]
  },
  {
   "cell_type": "markdown",
   "metadata": {},
   "source": [
    "## NOTE - NOT AN ISSUE as match length limits"
   ]
  },
  {
   "attachments": {},
   "cell_type": "markdown",
   "metadata": {},
   "source": [
    "### we go to the end of the array, but not to i for the source"
   ]
  },
  {
   "cell_type": "markdown",
   "metadata": {},
   "source": [
    "# CROSS ENTROPY\n"
   ]
  },
  {
   "cell_type": "code",
   "execution_count": 5,
   "metadata": {},
   "outputs": [],
   "source": [
    "relative_pos = []\n",
    "source = np.arange(20)\n",
    "words = [1,2,3,4,5]\n",
    "\n",
    "relative_pos.extend( [len(source)]*len(words) )"
   ]
  },
  {
   "cell_type": "code",
   "execution_count": 6,
   "metadata": {},
   "outputs": [
    {
     "data": {
      "text/plain": [
       "[20, 20, 20, 20, 20]"
      ]
     },
     "execution_count": 6,
     "metadata": {},
     "output_type": "execute_result"
    }
   ],
   "source": [
    "relative_pos"
   ]
  },
  {
   "cell_type": "code",
   "execution_count": 7,
   "metadata": {},
   "outputs": [],
   "source": [
    "decorated_target = [(i+0.5,\"target\",np.arange(10)) for i in range(10) ]\n",
    "decorated_source = [(i,\"source\",np.arange(10)) for i in range(10) ]"
   ]
  },
  {
   "cell_type": "code",
   "execution_count": 8,
   "metadata": {},
   "outputs": [],
   "source": [
    "time_tweets = decorated_target + decorated_source\n",
    "time_tweets.sort()"
   ]
  },
  {
   "cell_type": "code",
   "execution_count": 9,
   "metadata": {},
   "outputs": [
    {
     "data": {
      "text/plain": [
       "[(0, 'source', array([0, 1, 2, 3, 4, 5, 6, 7, 8, 9])),\n",
       " (0.5, 'target', array([0, 1, 2, 3, 4, 5, 6, 7, 8, 9])),\n",
       " (1, 'source', array([0, 1, 2, 3, 4, 5, 6, 7, 8, 9])),\n",
       " (1.5, 'target', array([0, 1, 2, 3, 4, 5, 6, 7, 8, 9])),\n",
       " (2, 'source', array([0, 1, 2, 3, 4, 5, 6, 7, 8, 9])),\n",
       " (2.5, 'target', array([0, 1, 2, 3, 4, 5, 6, 7, 8, 9])),\n",
       " (3, 'source', array([0, 1, 2, 3, 4, 5, 6, 7, 8, 9])),\n",
       " (3.5, 'target', array([0, 1, 2, 3, 4, 5, 6, 7, 8, 9])),\n",
       " (4, 'source', array([0, 1, 2, 3, 4, 5, 6, 7, 8, 9])),\n",
       " (4.5, 'target', array([0, 1, 2, 3, 4, 5, 6, 7, 8, 9])),\n",
       " (5, 'source', array([0, 1, 2, 3, 4, 5, 6, 7, 8, 9])),\n",
       " (5.5, 'target', array([0, 1, 2, 3, 4, 5, 6, 7, 8, 9])),\n",
       " (6, 'source', array([0, 1, 2, 3, 4, 5, 6, 7, 8, 9])),\n",
       " (6.5, 'target', array([0, 1, 2, 3, 4, 5, 6, 7, 8, 9])),\n",
       " (7, 'source', array([0, 1, 2, 3, 4, 5, 6, 7, 8, 9])),\n",
       " (7.5, 'target', array([0, 1, 2, 3, 4, 5, 6, 7, 8, 9])),\n",
       " (8, 'source', array([0, 1, 2, 3, 4, 5, 6, 7, 8, 9])),\n",
       " (8.5, 'target', array([0, 1, 2, 3, 4, 5, 6, 7, 8, 9])),\n",
       " (9, 'source', array([0, 1, 2, 3, 4, 5, 6, 7, 8, 9])),\n",
       " (9.5, 'target', array([0, 1, 2, 3, 4, 5, 6, 7, 8, 9]))]"
      ]
     },
     "execution_count": 9,
     "metadata": {},
     "output_type": "execute_result"
    }
   ],
   "source": [
    "time_tweets"
   ]
  },
  {
   "cell_type": "code",
   "execution_count": 10,
   "metadata": {},
   "outputs": [],
   "source": [
    "target, source, relative_pos = [], [], []\n",
    "for time,user,tweet in time_tweets:\n",
    "    words = tweet\n",
    "    if user == \"target\":\n",
    "        target.extend(words)\n",
    "        relative_pos.extend( [len(source)]*len(words) )\n",
    "    else:                                                                                                                        \n",
    "        source.extend(words)"
   ]
  },
  {
   "cell_type": "code",
   "execution_count": 11,
   "metadata": {},
   "outputs": [
    {
     "data": {
      "text/plain": [
       "0"
      ]
     },
     "execution_count": 11,
     "metadata": {},
     "output_type": "execute_result"
    }
   ],
   "source": [
    "source[10]"
   ]
  },
  {
   "cell_type": "code",
   "execution_count": 12,
   "metadata": {},
   "outputs": [
    {
     "data": {
      "text/plain": [
       "10"
      ]
     },
     "execution_count": 12,
     "metadata": {},
     "output_type": "execute_result"
    }
   ],
   "source": [
    "relative_pos[0]"
   ]
  },
  {
   "cell_type": "code",
   "execution_count": 13,
   "metadata": {},
   "outputs": [],
   "source": [
    "source = np.arange(10)\n",
    "target = np.arange(10)"
   ]
  },
  {
   "cell_type": "code",
   "execution_count": 14,
   "metadata": {},
   "outputs": [
    {
     "name": "stdout",
     "output_type": "stream",
     "text": [
      "9 9\n",
      "si: 0, ei: 8\n",
      "si: 1, ei: 8\n",
      "si: 2, ei: 7\n",
      "si: 3, ei: 6\n",
      "si: 4, ei: 5\n",
      "si: 5, ei: 4\n",
      "si: 6, ei: 3\n",
      "si: 7, ei: 2\n",
      "si: 8, ei: 1\n",
      "si: 9, ei: 0\n"
     ]
    }
   ],
   "source": [
    "source_size = source.shape[0]-1\n",
    "target_size = target.shape[0]-1\n",
    "\n",
    "print(source_size,target_size)\n",
    "for si in range(0, source_size+1):\n",
    "    print(f'si: {si}, ei: {min(target_size, source_size - si+1)-1}')\n"
   ]
  },
  {
   "cell_type": "code",
   "execution_count": 15,
   "metadata": {},
   "outputs": [],
   "source": [
    "target[9]=8"
   ]
  },
  {
   "cell_type": "code",
   "execution_count": 16,
   "metadata": {},
   "outputs": [
    {
     "data": {
      "text/plain": [
       "(array([0, 1, 2, 3, 4, 5, 6, 7, 8, 9]), array([0, 1, 2, 3, 4, 5, 6, 7, 8, 8]))"
      ]
     },
     "execution_count": 16,
     "metadata": {},
     "output_type": "execute_result"
    }
   ],
   "source": [
    "source, target"
   ]
  },
  {
   "cell_type": "code",
   "execution_count": 17,
   "metadata": {},
   "outputs": [
    {
     "name": "stdout",
     "output_type": "stream",
     "text": [
      "si: 0, ei: 8\n",
      "1, 1,1,1\n",
      "2, 2,2,2\n",
      "3, 3,3,3\n",
      "4, 4,4,4\n",
      "5, 5,5,5\n",
      "6, 6,6,6\n",
      "7, 7,7,7\n",
      "8, 8,8,8\n"
     ]
    }
   ],
   "source": [
    "\n",
    "source_size = source.shape[0]-1\n",
    "target_size = target.shape[0]-1\n",
    "t_max = 0\n",
    "c_max = 0\n",
    "\n",
    "si=0\n",
    "\n",
    "\n",
    "if source[si] == target[0]:\n",
    "    c_max = 1\n",
    "    print(f'si: {si}, ei: {min(target_size, source_size - si+1)-1}')\n",
    "    for ei in range(1,min(target_size, source_size - si+1)):\n",
    "        print(f'{si+ei}, {source[si+ei]},{target[ei]},{c_max}')\n",
    "        if(source[si+ei] != target[ei]):\n",
    "            break\n",
    "        else:\n",
    "            c_max = c_max+1\n",
    "\n",
    "    if c_max > t_max:\n",
    "        t_max = c_max "
   ]
  },
  {
   "cell_type": "code",
   "execution_count": 18,
   "metadata": {},
   "outputs": [
    {
     "data": {
      "text/plain": [
       "9"
      ]
     },
     "execution_count": 18,
     "metadata": {},
     "output_type": "execute_result"
    }
   ],
   "source": [
    "c_max"
   ]
  },
  {
   "cell_type": "code",
   "execution_count": 19,
   "metadata": {},
   "outputs": [
    {
     "data": {
      "text/plain": [
       "10"
      ]
     },
     "execution_count": 19,
     "metadata": {},
     "output_type": "execute_result"
    }
   ],
   "source": [
    "t_max+1"
   ]
  },
  {
   "cell_type": "code",
   "execution_count": 20,
   "metadata": {},
   "outputs": [
    {
     "name": "stdout",
     "output_type": "stream",
     "text": [
      "si: 7, ei: 7\n",
      "8, 1,1,1\n",
      "9, 1,1,2\n",
      "10, 2,1,3\n"
     ]
    }
   ],
   "source": [
    "# checking\n",
    "\n",
    "\n",
    "source = np.array([5,1,2,3,4,1,2,1,1,1,2,3,1,2,2])\n",
    "target = np.array([1,1,1,1,2,3,4,2,3,4,1,2,2,1,1,2])\n",
    "\n",
    "\n",
    "source_size = source.shape[0]-1\n",
    "target_size = target.shape[0]-1\n",
    "t_max = 0\n",
    "c_max = 0\n",
    "\n",
    "si=7\n",
    "\n",
    "\n",
    "if source[si] == target[0]:\n",
    "    c_max = 1\n",
    "    print(f'si: {si}, ei: {min(target_size, source_size - si+1)-1}')\n",
    "    for ei in range(1,min(target_size, source_size - si+1)+1): ##### NEEDS A PLUS\n",
    "        print(f'{si+ei}, {source[si+ei]},{target[ei]},{c_max}')\n",
    "        if(source[si+ei] != target[ei]):\n",
    "            break\n",
    "        else:\n",
    "            c_max = c_max+1\n",
    "\n",
    "    if c_max > t_max:\n",
    "        t_max = c_max "
   ]
  },
  {
   "cell_type": "code",
   "execution_count": 21,
   "metadata": {},
   "outputs": [
    {
     "data": {
      "text/plain": [
       "3"
      ]
     },
     "execution_count": 21,
     "metadata": {},
     "output_type": "execute_result"
    }
   ],
   "source": [
    "t_max"
   ]
  },
  {
   "cell_type": "code",
   "execution_count": null,
   "metadata": {},
   "outputs": [],
   "source": [
    "N = len(source)\n",
    "\n",
    "for i in prange(1, N): \n",
    "\n",
    "    # The target process is everything ahead of i.\n",
    "    t_max = 0\n",
    "    c_max = 0\n",
    "\n",
    "    for j in range(0, i): # Look back at the past # SOURCE\n",
    "        if source[j] == source[i]: # Check if matches future's next element\n",
    "            c_max = 1\n",
    "            for k in range(1,min(N-i, i-j)): # Look through more of future\n",
    "                if source[j+k] != source[i+k]:\n",
    "                    break\n",
    "                else:\n",
    "                    c_max = c_max+1\n",
    "\n",
    "            if c_max > t_max:\n",
    "                t_max = c_max \n",
    "\n",
    "    lambdas[i] = t_max+1"
   ]
  },
  {
   "cell_type": "code",
   "execution_count": 23,
   "metadata": {},
   "outputs": [],
   "source": [
    "def find_lambda_jit(target, source):\n",
    "    \"\"\"\n",
    "    Finds the longest subsequence of the target array, \n",
    "    starting from index 0, that is contained in the source array.\n",
    "    Returns the length of that subsequence + 1.\n",
    "    \n",
    "    i.e. returns the length of the shortest subsequence starting at 0 \n",
    "    that has not previously appeared.\n",
    "    \n",
    "    Args:\n",
    "        target: NumPy array, preferable of type int.\n",
    "        source: NumPy array, preferable of type int.\n",
    "    \n",
    "    Returns:\n",
    "        Integer of the length.\n",
    "        \n",
    "    \"\"\"\n",
    "    \n",
    "    source_size = source.shape[0]-1\n",
    "    target_size = target.shape[0]-1\n",
    "    t_max = 0\n",
    "    c_max = 0\n",
    "\n",
    "    for si in range(0, source_size+1):\n",
    "        if source[si] == target[0]:\n",
    "            c_max = 1\n",
    "            for ei in range(1,min(target_size+1, source_size - si+1)):\n",
    "                if(source[si+ei] != target[ei]):\n",
    "                    break\n",
    "                else:\n",
    "                    c_max = c_max+1\n",
    "\n",
    "            if c_max > t_max:\n",
    "                t_max = c_max \n",
    "                \n",
    "    return t_max+1"
   ]
  },
  {
   "cell_type": "code",
   "execution_count": 24,
   "metadata": {},
   "outputs": [
    {
     "data": {
      "text/plain": [
       "11"
      ]
     },
     "execution_count": 24,
     "metadata": {},
     "output_type": "execute_result"
    }
   ],
   "source": [
    "find_lambda_jit(np.array([0,1,2,3,4,5,6,7,8,9]),np.arange(10))"
   ]
  },
  {
   "cell_type": "code",
   "execution_count": 25,
   "metadata": {},
   "outputs": [
    {
     "data": {
      "text/plain": [
       "15"
      ]
     },
     "execution_count": 25,
     "metadata": {},
     "output_type": "execute_result"
    }
   ],
   "source": [
    "len(source)"
   ]
  },
  {
   "cell_type": "code",
   "execution_count": 26,
   "metadata": {},
   "outputs": [
    {
     "name": "stdout",
     "output_type": "stream",
     "text": [
      "i: 5, j: 0, k: 4, N-i: 5, i-j: 5 i+k: 1, j+k: 4\n",
      "| | | | | s s s s s\n",
      "t t t t t | | | | |\n",
      "\n",
      "\n",
      "i: 5, j: 1, k: 4, N-i: 5, i-j: 4 i+k: 1, j+k: 1\n",
      "| | | | | s s s s s\n",
      "| t t t t t | | | |\n",
      "\n",
      "\n",
      "i: 5, j: 2, k: 4, N-i: 5, i-j: 3 i+k: 1, j+k: 2\n",
      "| | | | | s s s s s\n",
      "| | t t t t t | | |\n",
      "\n",
      "\n",
      "i: 5, j: 3, k: 4, N-i: 5, i-j: 2 i+k: 1, j+k: 1\n",
      "| | | | | s s s s s\n",
      "| | | t t t t t | |\n",
      "\n",
      "\n",
      "i: 5, j: 4, k: 4, N-i: 5, i-j: 1 i+k: 1, j+k: 1\n",
      "| | | | | s s s s s\n",
      "| | | | t t t t t |\n",
      "\n",
      "\n"
     ]
    }
   ],
   "source": [
    "N = 10\n",
    "\n",
    "target_size = 9\n",
    "# for i in range(1,N):\n",
    "i=5\n",
    "for j in range(0,i):\n",
    "    k = min(target_size, N - i)-1\n",
    "    print(f'i: {i}, j: {j}, k: {k}, N-i: {N-i}, i-j: {i-j} i+k: {source[i+k]}, j+k: {source[j+k]}')\n",
    "\n",
    "    s_li = ['|']*N\n",
    "    t_li = ['|']*N\n",
    "\n",
    "    s_li[i:i+k+1] = 's'*len(s_li[i:i+k+1])\n",
    "    t_li[j:j+k+1] = 't'*len(t_li[j:j+k+1])\n",
    "\n",
    "\n",
    "    print(\" \".join(s_li))\n",
    "    print(\" \".join(t_li))\n",
    "    print(\"\\n\")\n",
    "\n"
   ]
  },
  {
   "cell_type": "markdown",
   "metadata": {},
   "source": [
    "# FAST ENTROPY"
   ]
  },
  {
   "attachments": {},
   "cell_type": "markdown",
   "metadata": {},
   "source": [
    "### Note - does need the space - this is notes from 14/02/2022 IGNORE\n",
    "# begin by installing"
   ]
  },
  {
   "cell_type": "code",
   "execution_count": null,
   "metadata": {},
   "outputs": [
    {
     "name": "stdout",
     "output_type": "stream",
     "text": [
      "\u001b[31mERROR: You must give at least one requirement to install (see \"pip help install\")\u001b[0m\u001b[31m\n",
      "\u001b[0mNote: you may need to restart the kernel to use updated packages.\n"
     ]
    }
   ],
   "source": [
    "pip install -i https://test.pypi.org/simple/ LCSFinder"
   ]
  },
  {
   "cell_type": "code",
   "execution_count": 1,
   "metadata": {},
   "outputs": [],
   "source": [
    "# load packages\n",
    "import LCSFinder as lcs\n",
    "import numpy as np"
   ]
  },
  {
   "cell_type": "code",
   "execution_count": 2,
   "metadata": {},
   "outputs": [],
   "source": [
    "# initialise strings\n",
    "list_source = np.arange(7)\n",
    "list_target = np.arange(8,12)"
   ]
  },
  {
   "cell_type": "code",
   "execution_count": 5,
   "metadata": {},
   "outputs": [],
   "source": [
    "\n",
    "# set up objects\n",
    "source = lcs.Vector1D([int(x) for x in ([np.floor(x) for x in list_source])])\n",
    "target = lcs.Vector1D([int(x) for x in ([np.floor(x) for x in list_target])])\n",
    "ob = lcs.LCSFinder(source,target) # s1 and then s2\n",
    "\n",
    "# s1 = source\n",
    "# s2 = target"
   ]
  },
  {
   "cell_type": "code",
   "execution_count": 43,
   "metadata": {},
   "outputs": [],
   "source": [
    "\n",
    "# set up indices to search from\n",
    "l_t =  lcs.Vector2D(tuple((i,i+1) for i in range(len(list_source))))\n",
    "\n",
    "m_len = ob.ComputeAllLCSs(l_t)\n"
   ]
  },
  {
   "cell_type": "code",
   "execution_count": 44,
   "metadata": {},
   "outputs": [],
   "source": [
    "search = tuple((i,i+1) for i in range(len(list_source)))"
   ]
  },
  {
   "cell_type": "code",
   "execution_count": 45,
   "metadata": {},
   "outputs": [
    {
     "name": "stdout",
     "output_type": "stream",
     "text": [
      "So we are comparing\n",
      "source 0 to n, [0 1 2 3 4 5 6] is compared to target to 1, [8]\n",
      "source 1 to n, [1 2 3 4 5 6] is compared to target to 2, [8 9]\n",
      "source 2 to n, [2 3 4 5 6] is compared to target to 3, [ 8  9 10]\n",
      "source 3 to n, [3 4 5 6] is compared to target to 4, [ 8  9 10 11]\n",
      "source 4 to n, [4 5 6] is compared to target to 5, [ 8  9 10 11]\n",
      "source 5 to n, [5 6] is compared to target to 6, [ 8  9 10 11]\n",
      "source 6 to n, [6] is compared to target to 7, [ 8  9 10 11]\n",
      "match lengths of (0, 0, 0, 0, 0, 0, 0)\n"
     ]
    }
   ],
   "source": [
    "print(f'So we are comparing')\n",
    "[print(f'source {x[0]} to n, {list_source[x[0]:]} is compared to target to {x[1]}, {list_target[:x[1]]}') for x in search]\n",
    "\n",
    "print(f'match lengths of {m_len}')"
   ]
  },
  {
   "attachments": {},
   "cell_type": "markdown",
   "metadata": {},
   "source": [
    "it gives the length of the match between the considering sequence in source (i:n) which MUST start at index i\n",
    "and ANY substring in the target [:j]\n",
    "\n",
    "- need to swap around and play with indexes to get entropy vals\n",
    "\n",
    "So, we need\n",
    "\n",
    "target (s1)[i:n] # current time to end\n",
    "\n",
    "compared to\n",
    "source (s2)[:j]\n",
    "\n",
    "Where i=j\n",
    "\n",
    "- Want to iterate through each $i$ from $1<i<n$, as if i=0, we have a match length of zero.\n",
    "\n",
    "- prepend 0 to the results"
   ]
  },
  {
   "cell_type": "code",
   "execution_count": 7,
   "metadata": {},
   "outputs": [
    {
     "name": "stdout",
     "output_type": "stream",
     "text": [
      "1.83 ms ± 6.55 µs per loop (mean ± std. dev. of 7 runs, 1,000 loops each)\n"
     ]
    }
   ],
   "source": [
    "%%timeit\n",
    "list_target = list(np.random.randint(0,5,1000))\n",
    "list_source = list(np.random.randint(0,5,1000))\n",
    "# set up objects\n",
    "s2 = lcs.Vector1D([int(x) for x in ([np.floor(x) for x in list_source])])\n",
    "s1 = lcs.Vector1D([int(x) for x in ([np.floor(x) for x in list_target])])\n",
    "ob = lcs.LCSFinder(s1,s2) # s1 and then s2\n",
    "\n",
    "# s2 = source\n",
    "# s1 = target \n",
    "## MAYBE CHANGE ORDER GET INPUTTED\n",
    "\n",
    "# set up indices to search from\n",
    "search = tuple((i,i+1) for i in range(len(s2)))\n",
    "l_t =  lcs.Vector2D(search)\n",
    "ob.GetS()\n",
    "ob.GetSA()\n",
    "ob.ComputeAllLCSs(l_t)\n"
   ]
  },
  {
   "cell_type": "markdown",
   "metadata": {},
   "source": [
    "# Comparison with Python"
   ]
  },
  {
   "cell_type": "code",
   "execution_count": 45,
   "metadata": {},
   "outputs": [
    {
     "data": {
      "text/plain": [
       "((8, 16, 7, 15, 6, 5, 12, 13, 9, 0, 14, 4, 11, 3, 10, 2, 1),\n",
       " (1, 1, 2, 3, 3, 2, 2, 1))"
      ]
     },
     "execution_count": 45,
     "metadata": {},
     "output_type": "execute_result"
    }
   ],
   "source": [
    "list_target = [0, 1, 1, 1, 1, 0, 0, 0]\n",
    "list_source = [0, 1, 1, 0, 0, 1, 0, 0]\n",
    "\n",
    "# set up objects\n",
    "s2 = lcs.Vector1D([int(x) for x in ([np.floor(x) for x in list_source])])\n",
    "s1 = lcs.Vector1D([int(x) for x in ([np.floor(x) for x in list_target])])\n",
    "ob = lcs.LCSFinder(s1,s2) # s1 and then s2\n",
    "\n",
    "# s2 = source\n",
    "# s1 = target \n",
    "## MAYBE CHANGE ORDER GET INPUTTED\n",
    "\n",
    "# set up indices to search from\n",
    "search = tuple((i,i+1) for i in range(len(s2)))\n",
    "l_t =  lcs.Vector2D(search)\n",
    "\n",
    "ob.GetSA(), ob.ComputeAllLCSs(l_t)"
   ]
  },
  {
   "cell_type": "code",
   "execution_count": 35,
   "metadata": {},
   "outputs": [
    {
     "data": {
      "text/plain": [
       "(2, 1, 1, 2, 2, 2, 1, 1, 0, 2, 2, 2, 2, 1, 2, 2, 2)"
      ]
     },
     "execution_count": 35,
     "metadata": {},
     "output_type": "execute_result"
    }
   ],
   "source": [
    "ob.GetS()"
   ]
  },
  {
   "cell_type": "code",
   "execution_count": 36,
   "metadata": {},
   "outputs": [
    {
     "data": {
      "text/plain": [
       "(8, 7, 6, 1, 13, 2, 16, 5, 0, 12, 15, 4, 11, 14, 3, 10, 9)"
      ]
     },
     "execution_count": 36,
     "metadata": {},
     "output_type": "execute_result"
    }
   ],
   "source": [
    "ob.GetSA()"
   ]
  },
  {
   "cell_type": "code",
   "execution_count": 66,
   "metadata": {},
   "outputs": [],
   "source": [
    "\n",
    "# set up objects\n",
    "s2 = lcs.Vector1D([int(x) for x in ([np.floor(x) for x in list_source])])\n",
    "s1 = lcs.Vector1D([int(x) for x in ([np.floor(x) for x in list_target])])\n",
    "ob = lcs.LCSFinder(s1,s2) # s1 and then s2\n",
    "\n",
    "# s2 = source\n",
    "# s1 = target \n",
    "## MAYBE CHANGE ORDER GET INPUTTED\n",
    "\n",
    "# set up indices to search from\n",
    "search = tuple((i,len(s1)) for i in range(len(s2)))\n",
    "l_t =  lcs.Vector2D(search)\n",
    "m_len = ob.ComputeAllLCSs(l_t)\n"
   ]
  },
  {
   "cell_type": "code",
   "execution_count": 67,
   "metadata": {},
   "outputs": [
    {
     "name": "stdout",
     "output_type": "stream",
     "text": [
      "So we are comparing\n",
      "target 0 to n, [0 1 2 3 4 5 6] is compared to source to 4, [ 8  9 10 11]\n",
      "target 1 to n, [1 2 3 4 5 6] is compared to source to 4, [ 8  9 10 11]\n",
      "target 2 to n, [2 3 4 5 6] is compared to source to 4, [ 8  9 10 11]\n",
      "target 3 to n, [3 4 5 6] is compared to source to 4, [ 8  9 10 11]\n",
      "target 4 to n, [4 5 6] is compared to source to 4, [ 8  9 10 11]\n",
      "target 5 to n, [5 6] is compared to source to 4, [ 8  9 10 11]\n",
      "target 6 to n, [6] is compared to source to 4, [ 8  9 10 11]\n",
      "match lengths of (0, 0, 0, 0, 0, 4, 3)\n"
     ]
    }
   ],
   "source": [
    "print(f'So we are comparing')\n",
    "[print(f'target {x[0]} to n, {list_source[x[0]:]} is compared to source to {x[1]}, {list_target[:x[1]]}') for x in search]\n",
    "\n",
    "print(f'match lengths of {m_len}')"
   ]
  },
  {
   "cell_type": "code",
   "execution_count": 49,
   "metadata": {},
   "outputs": [],
   "source": [
    "from ProcessEntropy.CrossEntropy import get_all_lambdas"
   ]
  },
  {
   "cell_type": "code",
   "execution_count": 50,
   "metadata": {},
   "outputs": [],
   "source": [
    "lambdas = get_all_lambdas(list_target,list_source,np.arange(len(list_source)), np.zeros(len(s2)))"
   ]
  },
  {
   "cell_type": "code",
   "execution_count": 51,
   "metadata": {},
   "outputs": [
    {
     "data": {
      "text/plain": [
       "(array([1., 1., 1., 1., 0., 0., 0.]), (0, 0, 0, 0, 0, 4, 3))"
      ]
     },
     "execution_count": 51,
     "metadata": {},
     "output_type": "execute_result"
    }
   ],
   "source": [
    "lambdas, m_len"
   ]
  },
  {
   "cell_type": "code",
   "execution_count": 75,
   "metadata": {},
   "outputs": [
    {
     "data": {
      "text/plain": [
       "(array([ 8,  9, 10, 11]), array([0, 1, 2, 3, 4, 5, 6]))"
      ]
     },
     "execution_count": 75,
     "metadata": {},
     "output_type": "execute_result"
    }
   ],
   "source": [
    "list_target, list_source"
   ]
  },
  {
   "cell_type": "code",
   "execution_count": 78,
   "metadata": {},
   "outputs": [
    {
     "data": {
      "text/plain": [
       "array([1., 1., 1., 1.])"
      ]
     },
     "execution_count": 78,
     "metadata": {},
     "output_type": "execute_result"
    }
   ],
   "source": [
    "get_all_lambdas(list_target,list_source,np.arange(len(list_target)), np.zeros(len(list_target)))"
   ]
  },
  {
   "cell_type": "code",
   "execution_count": 76,
   "metadata": {},
   "outputs": [
    {
     "data": {
      "text/plain": [
       "array([0, 1, 2, 3, 4, 5, 6])"
      ]
     },
     "execution_count": 76,
     "metadata": {},
     "output_type": "execute_result"
    }
   ],
   "source": [
    "np.arange(len(list_source))"
   ]
  },
  {
   "cell_type": "code",
   "execution_count": 54,
   "metadata": {},
   "outputs": [],
   "source": [
    "from ProcessEntropy.CrossEntropy import find_lambda_jit"
   ]
  },
  {
   "cell_type": "code",
   "execution_count": 73,
   "metadata": {},
   "outputs": [
    {
     "data": {
      "text/plain": [
       "5"
      ]
     },
     "execution_count": 73,
     "metadata": {},
     "output_type": "execute_result"
    }
   ],
   "source": [
    "find_lambda_jit(target, source)"
   ]
  },
  {
   "cell_type": "code",
   "execution_count": null,
   "metadata": {},
   "outputs": [],
   "source": [
    "finds length of longest unseen sequence between ta"
   ]
  },
  {
   "cell_type": "code",
   "execution_count": null,
   "metadata": {},
   "outputs": [],
   "source": [
    "list_target"
   ]
  },
  {
   "cell_type": "code",
   "execution_count": null,
   "metadata": {},
   "outputs": [],
   "source": [
    "For a given target sequence, we want to find the LCS with the source.\n",
    "\n",
    "So we want to take \n",
    "\n",
    "target is s1\n",
    "s1 [i:n) # this is the target\n",
    "\n",
    "source is s2\n",
    "s2[j:end] (want j=0)\n",
    "\n",
    "\n",
    "Want to iterate over the i's"
   ]
  },
  {
   "attachments": {},
   "cell_type": "markdown",
   "metadata": {},
   "source": [
    "# Notes from max - comment in LCS code\n",
    "Computes all the Longest Common Substring (LCS) values for each pair of indexes into s1 and s2.\n",
    "The first part of a pair is an index into s1 and the second is into s2.\n",
    "It is assumed inds is sorted.\n",
    "It is assumed that both the first and second element of each pair are monotonically increasing.\n",
    "Since each is a \"time point\", the indexes into s1 and s2 should increase monotonically.\n",
    "\n",
    "Returns a list of all the LCS values.\n",
    "For a given pair, say that the first index into s1 is called i and the second into s2 is called j.\n",
    "The corresponding entry in the return list is the LCS in prefix s2[0..j) that matches a prefix of the string s1[i..n)."
   ]
  },
  {
   "attachments": {},
   "cell_type": "markdown",
   "metadata": {},
   "source": [
    "#### Original functions have their original names, functions without bugs are called {func_name}_m"
   ]
  },
  {
   "cell_type": "code",
   "execution_count": 2,
   "metadata": {},
   "outputs": [],
   "source": [
    "from processentfunctions import *"
   ]
  },
  {
   "cell_type": "code",
   "execution_count": 2,
   "metadata": {},
   "outputs": [],
   "source": [
    "# load packages\n",
    "import LCSFinder as lcs\n",
    "import numpy as np"
   ]
  },
  {
   "cell_type": "markdown",
   "metadata": {},
   "source": [
    "# Initial test"
   ]
  },
  {
   "cell_type": "code",
   "execution_count": 29,
   "metadata": {},
   "outputs": [
    {
     "name": "stderr",
     "output_type": "stream",
     "text": [
      "/opt/homebrew/Caskroom/miniforge/base/envs/FastEntropy/lib/python3.9/site-packages/numba/core/ir_utils.py:2147: NumbaPendingDeprecationWarning: \n",
      "Encountered the use of a type that is scheduled for deprecation: type 'reflected list' found for argument 'relative_pos' of function 'get_all_lambdas'.\n",
      "\n",
      "For more information visit https://numba.readthedocs.io/en/stable/reference/deprecation.html#deprecation-of-reflection-for-list-and-set-types\n",
      "\n",
      "File \"processentfunctions.py\", line 125:\n",
      "@jit(nopython=True, parallel=True)\n",
      "def get_all_lambdas(target, source, relative_pos, lambdas):\n",
      "^\n",
      "\n",
      "  warnings.warn(NumbaPendingDeprecationWarning(msg, loc=loc))\n",
      "/opt/homebrew/Caskroom/miniforge/base/envs/FastEntropy/lib/python3.9/site-packages/numba/core/ir_utils.py:2147: NumbaPendingDeprecationWarning: \n",
      "Encountered the use of a type that is scheduled for deprecation: type 'reflected list' found for argument 'relative__pos' of function '__numba_parfor_gufunc_0x1393d0fa0'.\n",
      "\n",
      "For more information visit https://numba.readthedocs.io/en/stable/reference/deprecation.html#deprecation-of-reflection-for-list-and-set-types\n",
      "\n",
      "File \"<string>\", line 1:\n",
      "<source missing, REPL/exec in use?>\n",
      "\n",
      "  warnings.warn(NumbaPendingDeprecationWarning(msg, loc=loc))\n"
     ]
    },
    {
     "name": "stdout",
     "output_type": "stream",
     "text": [
      "[1 2 2 2 3 3 3 4 3 2] [1. 2. 2. 2. 3. 3. 3. 3. 2. 2.] [ True  True  True  True  True  True  True False False  True]\n"
     ]
    }
   ],
   "source": [
    "N=10\n",
    "l = []\n",
    "\n",
    "for i in range(N):\n",
    "    if np.random.rand()<0.5:\n",
    "        l.append(1)\n",
    "    else:\n",
    "        l.append(0)\n",
    "\n",
    "test1 = [x for x in l]\n",
    "s1 = lcs.Vector1D([x for x in l])\n",
    "\n",
    "l = []\n",
    "\n",
    "for i in range(N):\n",
    "    if np.random.rand()<0.5:\n",
    "        l.append(1)\n",
    "    else:\n",
    "        l.append(0)\n",
    "test2 = [x for x in l]\n",
    "s2 = lcs.Vector1D([x for x in l])\n",
    "\n",
    "# creating 1D vector\n",
    "# These are your input vectorsa\n",
    "a = np.array(test1).copy()\n",
    "b = np.array(test2).copy()\n",
    "# test1.reverse()\n",
    "s1 = lcs.Vector1D([int(x) for x in ([np.floor(x) for x in test1])])\n",
    "s2 = lcs.Vector1D([int(x) for x in ([np.floor(x) for x in test2])])\n",
    "ob = lcs.LCSFinder(s1,s2)\n",
    "\n",
    "l_t =  lcs.Vector2D(tuple((i,i+1) for i in range(len(test1))))\n",
    "store_l = np.zeros(len(a))\n",
    "\n",
    "lambda_FE = np.array([x+1 for x in ob.ComputeAllLCSs(l_t)])\n",
    "lambda_PE = get_all_lambdas(a,b, [x+1 for x in list(range(len(a)))],store_l)\n",
    "\n",
    "print(lambda_FE, lambda_PE, lambda_FE==lambda_PE)\n"
   ]
  },
  {
   "cell_type": "markdown",
   "metadata": {},
   "source": [
    "# specific test"
   ]
  },
  {
   "cell_type": "code",
   "execution_count": 30,
   "metadata": {},
   "outputs": [
    {
     "name": "stdout",
     "output_type": "stream",
     "text": [
      "[1 1 1 1 1 1] [1. 1. 1. 1. 1. 1.] [ True  True  True  True  True  True]\n"
     ]
    }
   ],
   "source": [
    "# initialise strings\n",
    "list_source = np.array([0,0,0,1,2,3,4,5,6])\n",
    "list_target = np.array([1,2,3,4,5,5])\n",
    "\n",
    "# set up objects\n",
    "source = lcs.Vector1D([int(x) for x in ([np.floor(x) for x in list_source])])\n",
    "target = lcs.Vector1D([int(x) for x in ([np.floor(x) for x in list_target])])\n",
    "\n",
    "ob = lcs.LCSFinder(target,source) # s1 and then s2\n",
    "\n",
    "# creating 1D vector\n",
    "# These are your input vectorsa\n",
    "pe_target = np.array(list_target).copy()\n",
    "pe_source = np.array(list_source).copy()\n",
    "\n",
    "rel_pos = [x+1 for x in list(range(len(pe_target)-1))] + [len(pe_target)-1]\n",
    "\n",
    "\n",
    "l_t =  lcs.Vector2D(tuple((i,i+1) for i in range(len(target))))\n",
    "store_l = np.zeros(len(pe_target))\n",
    "\n",
    "lambda_FE = np.array([x+1 for x in ob.ComputeAllLCSs(l_t)])\n",
    "lambda_PE = get_all_lambdas(pe_target,pe_source, rel_pos,store_l)\n",
    "\n",
    "print(lambda_FE, lambda_PE, lambda_FE==lambda_PE)\n"
   ]
  },
  {
   "cell_type": "markdown",
   "metadata": {},
   "source": [
    "# Checking bugs"
   ]
  },
  {
   "attachments": {},
   "cell_type": "markdown",
   "metadata": {},
   "source": [
    "## we get diff behaviour for regular function (with bugs)"
   ]
  },
  {
   "cell_type": "code",
   "execution_count": 31,
   "metadata": {},
   "outputs": [
    {
     "data": {
      "text/plain": [
       "(9, 9)"
      ]
     },
     "execution_count": 31,
     "metadata": {},
     "output_type": "execute_result"
    }
   ],
   "source": [
    "find_lambda_jit(np.array([1,2,3,4,5,6,7,8,9]), np.arange(10)),find_lambda_jit(np.array([1,2,3,4,5,6,7,8,8]), np.arange(10))"
   ]
  },
  {
   "cell_type": "code",
   "execution_count": 32,
   "metadata": {},
   "outputs": [
    {
     "data": {
      "text/plain": [
       "(10, 9)"
      ]
     },
     "execution_count": 32,
     "metadata": {},
     "output_type": "execute_result"
    }
   ],
   "source": [
    "find_lambda_jit_m(np.array([1,2,3,4,5,6,7,8,9]), np.arange(10)),find_lambda_jit_m(np.array([1,2,3,4,5,6,7,8,8]), np.arange(10))"
   ]
  },
  {
   "attachments": {},
   "cell_type": "markdown",
   "metadata": {},
   "source": [
    "## same result for the get_all_lambdas function"
   ]
  },
  {
   "cell_type": "code",
   "execution_count": 33,
   "metadata": {},
   "outputs": [
    {
     "data": {
      "text/plain": [
       "(array([9., 8., 7., 6., 5., 4., 3., 2., 2., 0.]),\n",
       " array([9., 8., 7., 6., 5., 4., 3., 2., 2., 0.]))"
      ]
     },
     "execution_count": 33,
     "metadata": {},
     "output_type": "execute_result"
    }
   ],
   "source": [
    "get_all_lambdas(np.array([1,2,3,4,5,6,7,8,8]), np.arange(10), [10 for x in list(range(10))],np.zeros(10)), get_all_lambdas(np.array([1,2,3,4,5,6,7,8,9]), np.arange(10), [10 for x in list(range(10))],np.zeros(10))"
   ]
  },
  {
   "cell_type": "code",
   "execution_count": 34,
   "metadata": {},
   "outputs": [
    {
     "name": "stderr",
     "output_type": "stream",
     "text": [
      "/opt/homebrew/Caskroom/miniforge/base/envs/FastEntropy/lib/python3.9/site-packages/numba/core/ir_utils.py:2147: NumbaPendingDeprecationWarning: \n",
      "Encountered the use of a type that is scheduled for deprecation: type 'reflected list' found for argument 'relative_pos' of function 'get_all_lambdas_m'.\n",
      "\n",
      "For more information visit https://numba.readthedocs.io/en/stable/reference/deprecation.html#deprecation-of-reflection-for-list-and-set-types\n",
      "\n",
      "File \"processentfunctions.py\", line 45:\n",
      "@jit(nopython=True, parallel=True)\n",
      "def get_all_lambdas_m(target, source, relative_pos, lambdas):\n",
      "^\n",
      "\n",
      "  warnings.warn(NumbaPendingDeprecationWarning(msg, loc=loc))\n",
      "/opt/homebrew/Caskroom/miniforge/base/envs/FastEntropy/lib/python3.9/site-packages/numba/core/ir_utils.py:2147: NumbaPendingDeprecationWarning: \n",
      "Encountered the use of a type that is scheduled for deprecation: type 'reflected list' found for argument 'relative__pos' of function '__numba_parfor_gufunc_0x139b2b910'.\n",
      "\n",
      "For more information visit https://numba.readthedocs.io/en/stable/reference/deprecation.html#deprecation-of-reflection-for-list-and-set-types\n",
      "\n",
      "File \"<string>\", line 1:\n",
      "<source missing, REPL/exec in use?>\n",
      "\n",
      "  warnings.warn(NumbaPendingDeprecationWarning(msg, loc=loc))\n"
     ]
    },
    {
     "data": {
      "text/plain": [
       "(array([9., 8., 7., 6., 5., 4., 3., 2., 2., 0.]),\n",
       " array([10.,  9.,  8.,  7.,  6.,  5.,  4.,  3.,  2.,  0.]))"
      ]
     },
     "execution_count": 34,
     "metadata": {},
     "output_type": "execute_result"
    }
   ],
   "source": [
    "get_all_lambdas_m(np.array([1,2,3,4,5,6,7,8,8]), np.arange(10), [10 for x in list(range(10))],np.zeros(10)), get_all_lambdas_m(np.array([1,2,3,4,5,6,7,8,9]), np.arange(10), [10 for x in list(range(10))],np.zeros(10))"
   ]
  },
  {
   "cell_type": "code",
   "execution_count": 35,
   "metadata": {},
   "outputs": [
    {
     "data": {
      "text/plain": [
       "(array([9., 8., 7., 6., 5., 4., 3., 2., 2., 0.]),\n",
       " array([9., 8., 7., 6., 5., 4., 3., 2., 2., 0.]))"
      ]
     },
     "execution_count": 35,
     "metadata": {},
     "output_type": "execute_result"
    }
   ],
   "source": [
    "get_all_lambdas(np.array([1,2,3,4,5,6,7,8,8]), np.arange(10), [10 for x in list(range(10))],np.zeros(10)), get_all_lambdas(np.array([1,2,3,4,5,6,7,8,9]), np.arange(10), [10 for x in list(range(10))],np.zeros(10))"
   ]
  },
  {
   "cell_type": "markdown",
   "metadata": {},
   "source": [
    "## Note - here we set rel_pos = [10,10,...,10]\n",
    "# so that all source elements occur prior to all target elements"
   ]
  },
  {
   "cell_type": "code",
   "execution_count": 12,
   "metadata": {},
   "outputs": [
    {
     "data": {
      "text/plain": [
       "(array([1., 1., 1., 1., 1., 1., 1., 9., 9., 8.]),\n",
       " array([1., 1., 1., 1., 1., 1., 1., 9., 8., 7.]))"
      ]
     },
     "execution_count": 12,
     "metadata": {},
     "output_type": "execute_result"
    }
   ],
   "source": [
    "t1 = np.array([0,0,0,0,0,0,0,1,2,3,4,5,6,7,8,9])\n",
    "t2 = np.array([0,0,0,0,0,0,0,1,2,3,4,5,6,7,8,8])\n",
    "s = np.array([1,2,3,4,5,6,7,8,9])\n",
    "\n",
    "get_all_lambdas_m(t1,s,[x+1 for x in list(range(len(t1)))],np.zeros(10)),get_all_lambdas_m(t2, s, [x+1 for x in list(range(len(t2)))],np.zeros(10))"
   ]
  },
  {
   "cell_type": "code",
   "execution_count": 13,
   "metadata": {},
   "outputs": [
    {
     "data": {
      "text/plain": [
       "(array([1., 1., 1., 1., 1., 1., 1., 9., 8., 7.]),\n",
       " array([1., 1., 1., 1., 1., 1., 1., 9., 8., 7.]))"
      ]
     },
     "execution_count": 13,
     "metadata": {},
     "output_type": "execute_result"
    }
   ],
   "source": [
    "t1 = np.array([0,0,0,0,0,0,0,1,2,3,4,5,6,7,8,9])\n",
    "t2 = np.array([0,0,0,0,0,0,0,1,2,3,4,5,6,7,8,8])\n",
    "s = np.array([1,2,3,4,5,6,7,8,9])\n",
    "\n",
    "get_all_lambdas(t1,s,[x+1 for x in list(range(len(t1)))],np.zeros(10)),get_all_lambdas(t2, s, [x+1 for x in list(range(len(t2)))],np.zeros(10))"
   ]
  },
  {
   "cell_type": "markdown",
   "metadata": {},
   "source": [
    "# checking against FastEnt"
   ]
  },
  {
   "cell_type": "code",
   "execution_count": 3,
   "metadata": {},
   "outputs": [
    {
     "name": "stderr",
     "output_type": "stream",
     "text": [
      "/opt/homebrew/Caskroom/miniforge/base/envs/testlcsfinder/lib/python3.10/site-packages/numba/core/ir_utils.py:2147: NumbaPendingDeprecationWarning: \n",
      "Encountered the use of a type that is scheduled for deprecation: type 'reflected list' found for argument 'relative_pos' of function 'get_all_lambdas'.\n",
      "\n",
      "For more information visit https://numba.readthedocs.io/en/stable/reference/deprecation.html#deprecation-of-reflection-for-list-and-set-types\n",
      "\n",
      "File \"processentfunctions.py\", line 124:\n",
      "@jit(nopython=True, parallel=True)\n",
      "def get_all_lambdas(target, source, relative_pos, lambdas):\n",
      "^\n",
      "\n",
      "  warnings.warn(NumbaPendingDeprecationWarning(msg, loc=loc))\n",
      "/opt/homebrew/Caskroom/miniforge/base/envs/testlcsfinder/lib/python3.10/site-packages/numba/core/ir_utils.py:2147: NumbaPendingDeprecationWarning: \n",
      "Encountered the use of a type that is scheduled for deprecation: type 'reflected list' found for argument 'relative__pos' of function '__numba_parfor_gufunc_0x11ea4ab60'.\n",
      "\n",
      "For more information visit https://numba.readthedocs.io/en/stable/reference/deprecation.html#deprecation-of-reflection-for-list-and-set-types\n",
      "\n",
      "File \"<string>\", line 1:\n",
      "<source missing, REPL/exec in use?>\n",
      "\n",
      "  warnings.warn(NumbaPendingDeprecationWarning(msg, loc=loc))\n",
      "/opt/homebrew/Caskroom/miniforge/base/envs/testlcsfinder/lib/python3.10/site-packages/numba/core/ir_utils.py:2147: NumbaPendingDeprecationWarning: \n",
      "Encountered the use of a type that is scheduled for deprecation: type 'reflected list' found for argument 'relative_pos' of function 'get_all_lambdas_m'.\n",
      "\n",
      "For more information visit https://numba.readthedocs.io/en/stable/reference/deprecation.html#deprecation-of-reflection-for-list-and-set-types\n",
      "\n",
      "File \"processentfunctions.py\", line 44:\n",
      "@jit(nopython=True, parallel=True)\n",
      "def get_all_lambdas_m(target, source, relative_pos, lambdas):\n",
      "^\n",
      "\n",
      "  warnings.warn(NumbaPendingDeprecationWarning(msg, loc=loc))\n",
      "/opt/homebrew/Caskroom/miniforge/base/envs/testlcsfinder/lib/python3.10/site-packages/numba/core/ir_utils.py:2147: NumbaPendingDeprecationWarning: \n",
      "Encountered the use of a type that is scheduled for deprecation: type 'reflected list' found for argument 'relative__pos' of function '__numba_parfor_gufunc_0x11f0b2110'.\n",
      "\n",
      "For more information visit https://numba.readthedocs.io/en/stable/reference/deprecation.html#deprecation-of-reflection-for-list-and-set-types\n",
      "\n",
      "File \"<string>\", line 1:\n",
      "<source missing, REPL/exec in use?>\n",
      "\n",
      "  warnings.warn(NumbaPendingDeprecationWarning(msg, loc=loc))\n"
     ]
    },
    {
     "name": "stdout",
     "output_type": "stream",
     "text": [
      "We can see that the results from the modified and unmodified code differs:\n",
      "[1. 1. 1. 1. 1. 1. 1. 9. 8. 7. 6. 5. 4. 3. 2. 2.],\n",
      "[1. 1. 1. 1. 1. 1. 1. 9. 9. 8. 7. 6. 5. 4. 3. 2.].\n",
      " The results from the FastEntropy estimator match those from the debugged (modified) code \n",
      " (FastEntropy) [1 1 1 1 1 1 1 9 9 8 7 6 5 4 3 2]\n",
      " (CheckEquality modified) [ True  True  True  True  True  True  True  True  True  True  True  True\n",
      "  True  True  True  True]\n",
      " (CheckEquality unmodified) [ True  True  True  True  True  True  True  True False False False False\n",
      " False False False  True].\n"
     ]
    }
   ],
   "source": [
    "# initialise strings\n",
    "list_source = np.array([1,2,3,4,5,6,7,8,9])\n",
    "list_target = np.array([0,0,0,0,0,0,0,1,2,3,4,5,6,7,8,9])\n",
    "\n",
    "# set up objects\n",
    "source = lcs.Vector1D([int(x) for x in ([np.floor(x) for x in list_source])])\n",
    "target = lcs.Vector1D([int(x) for x in ([np.floor(x) for x in list_target])])\n",
    "\n",
    "ob = lcs.LCSFinder(target,source) # s1 and then s2\n",
    "\n",
    "# creating 1D vector\n",
    "# These are your input vectorsa\n",
    "pe_target = np.array(list_target).copy()\n",
    "pe_source = np.array(list_source).copy()\n",
    "\n",
    "rel_pos = [x+1 for x in list(range(len(pe_target)))] \n",
    "\n",
    "\n",
    "l_t =  lcs.Vector2D(tuple((i,i+1) for i in range(len(list_target))))\n",
    "\n",
    "lambda_FE = np.array([x+1 for x in ob.ComputeAllLCSs(l_t)])\n",
    "lambda_PE = get_all_lambdas(pe_target,pe_source, rel_pos,np.zeros(len(pe_target)))\n",
    "lambda_PE_m = get_all_lambdas_m(pe_target,pe_source, rel_pos,np.zeros(len(pe_target)))\n",
    "\n",
    "\n",
    "# printing debug\n",
    "print(f'We can see that the results from the modified and unmodified code differs:\\n{lambda_PE},\\n{lambda_PE_m}.\\n The results from the FastEntropy estimator match those from the debugged (modified) code \\n (FastEntropy) {lambda_FE}\\n (CheckEquality modified) {lambda_FE==lambda_PE_m}\\n (CheckEquality unmodified) {lambda_FE==lambda_PE}.')"
   ]
  },
  {
   "cell_type": "markdown",
   "metadata": {},
   "source": [
    "# timing single comparison"
   ]
  },
  {
   "cell_type": "code",
   "execution_count": 4,
   "metadata": {},
   "outputs": [
    {
     "name": "stdout",
     "output_type": "stream",
     "text": [
      "77.9 µs ± 3.93 µs per loop (mean ± std. dev. of 7 runs, 10,000 loops each)\n"
     ]
    }
   ],
   "source": [
    "%timeit get_all_lambdas_m(pe_target,pe_source, rel_pos,np.zeros(len(pe_target)))"
   ]
  },
  {
   "cell_type": "code",
   "execution_count": 5,
   "metadata": {},
   "outputs": [
    {
     "name": "stdout",
     "output_type": "stream",
     "text": [
      "3.64 µs ± 32.9 ns per loop (mean ± std. dev. of 7 runs, 100,000 loops each)\n"
     ]
    }
   ],
   "source": [
    "%timeit np.array([x+1 for x in ob.ComputeAllLCSs(l_t)])"
   ]
  },
  {
   "cell_type": "markdown",
   "metadata": {},
   "source": [
    "# Constructing the time matching vector (relative pos)"
   ]
  },
  {
   "attachments": {},
   "cell_type": "markdown",
   "metadata": {},
   "source": [
    "### In ProcessEntropy\n",
    "For relative_pos[x] = i\n",
    "we have that \n",
    "everything in source[:x] occured before target[i:]\n",
    "\n",
    "### In FastEntropy\n",
    "\n",
    "l_t =  list of tuples with (x,i)\n"
   ]
  },
  {
   "cell_type": "code",
   "execution_count": 4,
   "metadata": {},
   "outputs": [],
   "source": [
    "from processentfunctions import *\n",
    "# load packages\n",
    "import LCSFinder as lcs\n",
    "import numpy as np\n",
    "\n",
    "import datetime\n",
    "import matplotlib.pyplot as plt"
   ]
  },
  {
   "cell_type": "code",
   "execution_count": 5,
   "metadata": {},
   "outputs": [],
   "source": [
    "def timeseries_cross_entropy_PE_entropy(time_tweets_target, time_tweets_source):\n",
    "\n",
    "    '''\n",
    "    Modified version of the timeseries_cross_entropy function (removed please sanitize), to make equivalent between the original and the FastEntropy implementation.\n",
    "\n",
    "    Function expects two inputs in the form of a list of time-tweet tuples:\n",
    "\n",
    "    [(time, [list of symbols]),....]\n",
    "    '''\n",
    "\n",
    "    decorated_target = [ (time,\"target\",tweet) for time,tweet in time_tweets_target ]\n",
    "    decorated_source = [ (time,\"source\",tweet) for time,tweet in time_tweets_source ]\n",
    "        \n",
    "    # Join time series:\n",
    "    time_tweets = decorated_target + decorated_source\n",
    "\n",
    "    # Sort in place by time:                                                                                                                 \n",
    "    time_tweets.sort()\n",
    "\n",
    "    # Loop over combined tweets and build word vectors and target->source relative_pos:                                                                     \n",
    "    target, source, relative_pos = [], [], []\n",
    "    for time,user,tweet in time_tweets:\n",
    "        words = tweet\n",
    "        if user == \"target\":\n",
    "            target.extend(words)\n",
    "            relative_pos.extend( [len(source)]*len(words) )\n",
    "        else:                                                                                                                        \n",
    "            source.extend(words)\n",
    "            \n",
    "    \n",
    "    target = np.array(target, dtype = np.uint32)\n",
    "    source = np.array(source, dtype = np.uint32)\n",
    "    relative_pos = np.array(relative_pos, dtype = np.uint32)\n",
    "\n",
    "    lambdas = np.zeros(len(target), dtype = np.uint32) # Premake for efficiency\n",
    "    \n",
    "    original_lambdas = get_all_lambdas_m(target, source, relative_pos, lambdas)\n",
    "\n",
    "    return original_lambdas"
   ]
  },
  {
   "cell_type": "code",
   "execution_count": 6,
   "metadata": {},
   "outputs": [],
   "source": [
    "def timeseries_cross_entropy_FE_entropy(time_tweets_target, time_tweets_source):\n",
    "\n",
    "    '''\n",
    "    ** FAST ENTROPY ***\n",
    "\n",
    "    Modified version of the timeseries_cross_entropy function (removed please sanitize), to make equivalent between the original and the FastEntropy implementation.\n",
    "\n",
    "    Function expects two inputs in the form of a list of time-tweet tuples:\n",
    "\n",
    "    [(time, [list of integers]),....]\n",
    "    '''\n",
    "\n",
    "    decorated_target = [ (time,\"target\",tweet) for time,tweet in time_tweets_target ]\n",
    "    decorated_source = [ (time,\"source\",tweet) for time,tweet in time_tweets_source ]\n",
    "        \n",
    "    # Join time series:\n",
    "    time_tweets = decorated_target + decorated_source\n",
    "\n",
    "    # Sort in place by time:                                                                                                                 \n",
    "    time_tweets.sort()\n",
    "\n",
    "    # Loop over combined tweets and build word vectors and target->source relative_pos:                                                                     \n",
    "    target, source, relative_pos = [], [], []\n",
    "    for time,user,tweet in time_tweets:\n",
    "        words = tweet\n",
    "        if user == \"target\":\n",
    "            target.extend(words)\n",
    "            relative_pos.extend( [len(source)]*len(words) )\n",
    "        else:                                                                                                                        \n",
    "            source.extend(words)\n",
    "            \n",
    "    target = np.array(target, dtype = np.uint32)\n",
    "    source = np.array(source, dtype = np.uint32)\n",
    "    relative_pos = np.array(relative_pos, dtype = np.uint32)\n",
    "\n",
    "    # set up objects\n",
    "    source = lcs.Vector1D([int(x) for x in ([np.floor(x) for x in source])])\n",
    "    target = lcs.Vector1D([int(x) for x in ([np.floor(x) for x in target])])\n",
    "\n",
    "    ob = lcs.LCSFinder(target,source) # s1 and then s2\n",
    "\n",
    "    l_t =  lcs.Vector2D(tuple((i,int(relative_pos[i])) for i in range(len(relative_pos))))\n",
    "    \n",
    "    fastentropy_lambdas = np.array([x+1 for x in ob.ComputeAllLCSs(l_t)])\n",
    "\n",
    "    return fastentropy_lambdas"
   ]
  },
  {
   "attachments": {},
   "cell_type": "markdown",
   "metadata": {},
   "source": [
    "### proportion of time we hit bugs"
   ]
  },
  {
   "cell_type": "code",
   "execution_count": 2,
   "metadata": {},
   "outputs": [],
   "source": [
    "def timeseries_cross_entropy_PE_entropy_original(time_tweets_target, time_tweets_source):\n",
    "\n",
    "    '''\n",
    "    Modified version of the timeseries_cross_entropy function (removed please sanitize), to make equivalent between the original and the FastEntropy implementation.\n",
    "\n",
    "    Function expects two inputs in the form of a list of time-tweet tuples:\n",
    "\n",
    "    [(time, [list of symbols]),....]\n",
    "    '''\n",
    "\n",
    "    decorated_target = [ (time,\"target\",tweet) for time,tweet in time_tweets_target ]\n",
    "    decorated_source = [ (time,\"source\",tweet) for time,tweet in time_tweets_source ]\n",
    "        \n",
    "    # Join time series:\n",
    "    time_tweets = decorated_target + decorated_source\n",
    "\n",
    "    # Sort in place by time:                                                                                                                 \n",
    "    time_tweets.sort()\n",
    "\n",
    "    # Loop over combined tweets and build word vectors and target->source relative_pos:                                                                     \n",
    "    target, source, relative_pos = [], [], []\n",
    "    for time,user,tweet in time_tweets:\n",
    "        words = tweet\n",
    "        if user == \"target\":\n",
    "            target.extend(words)\n",
    "            relative_pos.extend( [len(source)]*len(words) )\n",
    "        else:                                                                                                                        \n",
    "            source.extend(words)\n",
    "            \n",
    "    \n",
    "    target = np.array(target, dtype = np.uint32)\n",
    "    source = np.array(source, dtype = np.uint32)\n",
    "    relative_pos = np.array(relative_pos, dtype = np.uint32)\n",
    "\n",
    "    lambdas = np.zeros(len(target), dtype = np.uint32) # Premake for efficiency\n",
    "    \n",
    "    original_lambdas = get_all_lambdas(target, source, relative_pos, lambdas)\n",
    "\n",
    "    return original_lambdas"
   ]
  },
  {
   "cell_type": "code",
   "execution_count": null,
   "metadata": {},
   "outputs": [],
   "source": [
    "def b_one_iter(N_s, N_t,V,tweet_size):\n",
    "\n",
    "    return one_iter(N_s, N_t,V,tweet_size)\n",
    "\n",
    "\n",
    "def one_iter(N_s, N_t,V,tweet_size):\n",
    "    list_source = np.random.randint(0,V,tweet_size*N_s)\n",
    "    list_target = np.random.randint(0,V,tweet_size*N_s)\n",
    "\n",
    "    times_s = np.sort(2*np.random.rand(N_s) + 0.2*np.arange(N_s))\n",
    "    times_t = np.sort(2*np.random.rand(N_t) + 0.2*np.arange(N_t))\n",
    "\n",
    "\n",
    "    time_tweets_target = [(times_t[i],list(list_target[tweet_size*i:tweet_size*i+tweet_size])) for i in range(N_t)]\n",
    "    time_tweets_source = [(times_s[i],list(list_source[tweet_size*i:tweet_size*i+tweet_size])) for i in range(N_s)]\n",
    "\n",
    "\n",
    "    return np.all(timeseries_cross_entropy_PE_entropy(time_tweets_target, time_tweets_source) == timeseries_cross_entropy_PE_entropy_original(time_tweets_target, time_tweets_source))\n"
   ]
  },
  {
   "cell_type": "code",
   "execution_count": null,
   "metadata": {},
   "outputs": [],
   "source": [
    "### Process for randomly generating sequences\n",
    "V = 10\n",
    "res = []\n",
    "N_iter = 10\n",
    "\n",
    "for tweet_size in np.arange(5,50,5):\n",
    "    for N in range(100,1002,10):\n",
    "\n",
    "        N_s = N\n",
    "        N_t = N\n",
    "\n",
    "        for _ in range(N_iter):\n",
    "            res.append(b_one_iter(N_s, N_t,V,tweet_size))\n"
   ]
  },
  {
   "cell_type": "code",
   "execution_count": null,
   "metadata": {},
   "outputs": [],
   "source": [
    "# bug seems to be from timeseries_cross_entropy_PE_entropy\n",
    "# maybe the get_all_lambdas_m?"
   ]
  },
  {
   "cell_type": "code",
   "execution_count": null,
   "metadata": {},
   "outputs": [],
   "source": [
    "np.mean(res)"
   ]
  },
  {
   "attachments": {},
   "cell_type": "markdown",
   "metadata": {},
   "source": [
    "## back to it"
   ]
  },
  {
   "cell_type": "code",
   "execution_count": 7,
   "metadata": {},
   "outputs": [],
   "source": [
    "# recreate above test\n",
    "\n",
    "list_source = np.array([1,2,3,4,5,6,7,8,9])\n",
    "list_target = np.array([0,0,0,0,0,0,0,1,2,3,4,5,6,7,8,9])\n",
    "time_tweets_target = [(i,[list_target[i]]) for i in range(len(list_target))]\n",
    "time_tweets_source = [(i,[list_source[i]]) for i in range(len(list_source))]"
   ]
  },
  {
   "cell_type": "code",
   "execution_count": 8,
   "metadata": {},
   "outputs": [
    {
     "data": {
      "text/plain": [
       "True"
      ]
     },
     "execution_count": 8,
     "metadata": {},
     "output_type": "execute_result"
    }
   ],
   "source": [
    "lambdas_pe = timeseries_cross_entropy_PE_entropy(time_tweets_target, time_tweets_source)\n",
    "lambdas_fe = timeseries_cross_entropy_FE_entropy(time_tweets_target, time_tweets_source)\n",
    "\n",
    "np.all(lambdas_pe == lambdas_fe)"
   ]
  },
  {
   "cell_type": "code",
   "execution_count": 9,
   "metadata": {},
   "outputs": [
    {
     "data": {
      "text/plain": [
       "True"
      ]
     },
     "execution_count": 9,
     "metadata": {},
     "output_type": "execute_result"
    }
   ],
   "source": [
    "### Process for randomly generating sequences\n",
    "V = 2\n",
    "\n",
    "tweet_size = 10\n",
    "N_s = 20\n",
    "N_t = 20\n",
    "\n",
    "\n",
    "list_source = np.random.randint(0,V,tweet_size*N_s)\n",
    "list_target = np.random.randint(0,V,tweet_size*N_s)\n",
    "\n",
    "times_s = np.sort(2*np.random.rand(N_s) + 0.2*np.arange(N_s))\n",
    "times_t = np.sort(2*np.random.rand(N_t) + 0.2*np.arange(N_t))\n",
    "\n",
    "\n",
    "time_tweets_target = [(times_t[i],list(list_target[tweet_size*i:tweet_size*i+tweet_size])) for i in range(N_t)]\n",
    "time_tweets_source = [(times_s[i],list(list_source[tweet_size*i:tweet_size*i+tweet_size])) for i in range(N_s)]\n",
    "\n",
    "lambdas_pe = timeseries_cross_entropy_PE_entropy(time_tweets_target, time_tweets_source)\n",
    "lambdas_fe = timeseries_cross_entropy_FE_entropy(time_tweets_target, time_tweets_source)\n",
    "\n",
    "np.all(lambdas_pe == lambdas_fe)"
   ]
  },
  {
   "cell_type": "markdown",
   "metadata": {},
   "source": [
    "# run lots of times"
   ]
  },
  {
   "cell_type": "code",
   "execution_count": 10,
   "metadata": {},
   "outputs": [],
   "source": [
    "### Process for randomly generating sequences\n",
    "V = 2\n",
    "res = []\n",
    "N_iter = 10\n",
    "\n",
    "for tweet_size in np.arange(5,20):\n",
    "    for N in range(1,102,10):\n",
    "\n",
    "        N_s = N\n",
    "        N_t = N\n",
    "\n",
    "        for _ in range(N_iter):\n",
    "            list_source = np.random.randint(0,V,tweet_size*N_s)\n",
    "            list_target = np.random.randint(0,V,tweet_size*N_s)\n",
    "\n",
    "            times_s = np.sort(2*np.random.rand(N_s) + 0.2*np.arange(N_s))\n",
    "            times_t = np.sort(2*np.random.rand(N_t) + 0.2*np.arange(N_t))\n",
    "\n",
    "\n",
    "            time_tweets_target = [(times_t[i],list(list_target[tweet_size*i:tweet_size*i+tweet_size])) for i in range(N_t)]\n",
    "            time_tweets_source = [(times_s[i],list(list_source[tweet_size*i:tweet_size*i+tweet_size])) for i in range(N_s)]\n",
    "\n",
    "            lambdas_pe = timeseries_cross_entropy_PE_entropy(time_tweets_target, time_tweets_source)\n",
    "            lambdas_fe = timeseries_cross_entropy_FE_entropy(time_tweets_target, time_tweets_source)\n",
    "\n",
    "            res.append(np.all(lambdas_pe == lambdas_fe))\n"
   ]
  },
  {
   "cell_type": "code",
   "execution_count": 43,
   "metadata": {},
   "outputs": [],
   "source": [
    "### Process for randomly generating sequences\n",
    "V = 50\n",
    "res = []\n",
    "N_iter = 10\n",
    "times_pe = []\n",
    "times_fe = []\n",
    "tweet_size = 50\n",
    "N_x = []\n",
    "\n",
    "\n",
    "for N in range(1,2002,200):\n",
    "\n",
    "    N_s = N\n",
    "    N_t = N\n",
    "\n",
    "    for _ in range(N_iter):\n",
    "        list_source = np.random.randint(0,V,tweet_size*N_s)\n",
    "        list_target = np.random.randint(0,V,tweet_size*N_s)\n",
    "\n",
    "        times_s = np.sort(2*np.random.rand(N_s) + 0.2*np.arange(N_s))\n",
    "        times_t = np.sort(2*np.random.rand(N_t) + 0.2*np.arange(N_t))\n",
    "\n",
    "\n",
    "        time_tweets_target = [(times_t[i],list(list_target[tweet_size*i:tweet_size*i+tweet_size])) for i in range(N_t)]\n",
    "        time_tweets_source = [(times_s[i],list(list_source[tweet_size*i:tweet_size*i+tweet_size])) for i in range(N_s)]\n",
    "\n",
    "        lambdas_pe = timeseries_cross_entropy_PE_entropy(time_tweets_target, time_tweets_source)\n",
    "        lambdas_fe = timeseries_cross_entropy_FE_entropy(time_tweets_target, time_tweets_source)\n",
    "\n",
    "        res.append(np.all(lambdas_pe == lambdas_fe))\n"
   ]
  },
  {
   "cell_type": "code",
   "execution_count": 44,
   "metadata": {},
   "outputs": [
    {
     "data": {
      "text/plain": [
       "True"
      ]
     },
     "execution_count": 44,
     "metadata": {},
     "output_type": "execute_result"
    }
   ],
   "source": [
    "np.all(res)"
   ]
  },
  {
   "cell_type": "markdown",
   "metadata": {},
   "source": [
    "# Checking times for large N (sequence lengths)"
   ]
  },
  {
   "cell_type": "code",
   "execution_count": 11,
   "metadata": {},
   "outputs": [],
   "source": [
    "from processentfunctions import *\n",
    "# load packages\n",
    "import LCSFinder as lcs\n",
    "import numpy as np\n",
    "def timeseries_cross_entropy_PE_entropy(time_tweets_target, time_tweets_source):\n",
    "\n",
    "    '''\n",
    "    Modified version of the timeseries_cross_entropy function (removed please sanitize), to make equivalent between the original and the FastEntropy implementation.\n",
    "\n",
    "    Function expects two inputs in the form of a list of time-tweet tuples:\n",
    "\n",
    "    [(time, [list of symbols]),....]\n",
    "    '''\n",
    "\n",
    "    decorated_target = [ (time,\"target\",tweet) for time,tweet in time_tweets_target ]\n",
    "    decorated_source = [ (time,\"source\",tweet) for time,tweet in time_tweets_source ]\n",
    "        \n",
    "    # Join time series:\n",
    "    time_tweets = decorated_target + decorated_source\n",
    "\n",
    "    # Sort in place by time:                                                                                                                 \n",
    "    time_tweets.sort()\n",
    "\n",
    "    # Loop over combined tweets and build word vectors and target->source relative_pos:                                                                     \n",
    "    target, source, relative_pos = [], [], []\n",
    "    for time,user,tweet in time_tweets:\n",
    "        words = tweet\n",
    "        if user == \"target\":\n",
    "            target.extend(words)\n",
    "            relative_pos.extend( [len(source)]*len(words) )\n",
    "        else:                                                                                                                        \n",
    "            source.extend(words)\n",
    "            \n",
    "    \n",
    "    target = np.array(target, dtype = np.uint32)\n",
    "    source = np.array(source, dtype = np.uint32)\n",
    "    relative_pos = np.array(relative_pos, dtype = np.uint32)\n",
    "\n",
    "    lambdas = np.zeros(len(target), dtype = np.uint32) # Premake for efficiency\n",
    "    \n",
    "    original_lambdas = get_all_lambdas_m(target, source, relative_pos, lambdas)\n",
    "\n",
    "    return original_lambdas\n",
    "def timeseries_cross_entropy_FE_entropy(time_tweets_target, time_tweets_source):\n",
    "\n",
    "    '''\n",
    "    ** FAST ENTROPY ***\n",
    "\n",
    "    Modified version of the timeseries_cross_entropy function (removed please sanitize), to make equivalent between the original and the FastEntropy implementation.\n",
    "\n",
    "    Function expects two inputs in the form of a list of time-tweet tuples:\n",
    "\n",
    "    [(time, [list of integers]),....]\n",
    "    '''\n",
    "\n",
    "    decorated_target = [ (time,\"target\",tweet) for time,tweet in time_tweets_target ]\n",
    "    decorated_source = [ (time,\"source\",tweet) for time,tweet in time_tweets_source ]\n",
    "        \n",
    "    # Join time series:\n",
    "    time_tweets = decorated_target + decorated_source\n",
    "\n",
    "    # Sort in place by time:                                                                                                                 \n",
    "    time_tweets.sort()\n",
    "\n",
    "    # Loop over combined tweets and build word vectors and target->source relative_pos:                                                                     \n",
    "    target, source, relative_pos = [], [], []\n",
    "    for time,user,tweet in time_tweets:\n",
    "        words = tweet\n",
    "        if user == \"target\":\n",
    "            target.extend(words)\n",
    "            relative_pos.extend( [len(source)]*len(words) )\n",
    "        else:                                                                                                                        \n",
    "            source.extend(words)\n",
    "            \n",
    "    target = np.array(target, dtype = np.uint32)\n",
    "    source = np.array(source, dtype = np.uint32)\n",
    "    relative_pos = np.array(relative_pos, dtype = np.uint32)\n",
    "\n",
    "    # set up objects\n",
    "    source = lcs.Vector1D([int(x) for x in ([np.floor(x) for x in source])])\n",
    "    target = lcs.Vector1D([int(x) for x in ([np.floor(x) for x in target])])\n",
    "\n",
    "    ob = lcs.LCSFinder(target,source) # s1 and then s2\n",
    "\n",
    "    l_t =  lcs.Vector2D(tuple((i,int(relative_pos[i])) for i in range(len(relative_pos))))\n",
    "    \n",
    "    fastentropy_lambdas = np.array([x+1 for x in ob.ComputeAllLCSs(l_t)])\n",
    "\n",
    "    return fastentropy_lambdas"
   ]
  },
  {
   "cell_type": "code",
   "execution_count": 12,
   "metadata": {},
   "outputs": [],
   "source": [
    "import datetime\n",
    "import matplotlib.pyplot as plt"
   ]
  },
  {
   "cell_type": "code",
   "execution_count": 14,
   "metadata": {},
   "outputs": [],
   "source": [
    "# Look at run times for increasing N\n",
    "### Process for randomly generating sequences\n",
    "V = 2\n",
    "res = []\n",
    "N_iter = 50\n",
    "times_pe = []\n",
    "times_fe = []\n",
    "tweet_size = 20\n",
    "N_x = []\n",
    "\n",
    "for N in range(1,2502,200):\n",
    "\n",
    "    N_s = N\n",
    "    N_t = N\n",
    "\n",
    "    for _ in range(N_iter):\n",
    "        N_x.append(tweet_size*N)\n",
    "        list_source = np.random.randint(0,V,tweet_size*N_s)\n",
    "        list_target = np.random.randint(0,V,tweet_size*N_s)\n",
    "\n",
    "        times_s = np.sort(2*np.random.rand(N_s) + 0.2*np.arange(N_s))\n",
    "        times_t = np.sort(2*np.random.rand(N_t) + 0.2*np.arange(N_t))\n",
    "\n",
    "\n",
    "        time_tweets_target = [(times_t[i],list(list_target[tweet_size*i:tweet_size*i+tweet_size])) for i in range(N_t)]\n",
    "        time_tweets_source = [(times_s[i],list(list_source[tweet_size*i:tweet_size*i+tweet_size])) for i in range(N_s)]\n",
    "\n",
    "\n",
    "        nowpe = datetime.datetime.now()\n",
    "        lambdas_pe = timeseries_cross_entropy_PE_entropy(time_tweets_target, time_tweets_source)\n",
    "        thenpe = datetime.datetime.now()\n",
    "\n",
    "        nowfe = datetime.datetime.now()\n",
    "        lambdas_fe = timeseries_cross_entropy_FE_entropy(time_tweets_target, time_tweets_source)\n",
    "        thenfe = datetime.datetime.now()\n",
    "\n",
    "        times_pe.append((thenpe-nowpe).total_seconds())\n",
    "        times_fe.append((thenfe-nowfe).total_seconds())"
   ]
  },
  {
   "cell_type": "code",
   "execution_count": 15,
   "metadata": {},
   "outputs": [],
   "source": [
    "import seaborn as sns"
   ]
  },
  {
   "cell_type": "code",
   "execution_count": 16,
   "metadata": {},
   "outputs": [
    {
     "data": {
      "image/png": "[encoded data removed]",
      "text/plain": [
       "<Figure size 640x480 with 1 Axes>"
      ]
     },
     "metadata": {},
     "output_type": "display_data"
    }
   ],
   "source": [
    "N_x = np.array(N_x)\n",
    "plt.scatter(N_x,times_pe, label = 'ProcessEntropy Debugged', s=1)\n",
    "sns.lineplot(x=N_x, y=times_pe, linewidth=0)\n",
    "sns.lineplot(x=N_x, y=0.76/(1601600400)*N_x**2, c='darkblue')\n",
    "plt.scatter(N_x,times_fe, label = 'FastEntropy',s=1)\n",
    "sns.lineplot(x=N_x, y=times_fe, linewidth=0)\n",
    "sns.lineplot(x=N_x, y = 0.11/4.24097327e+05*N_x*np.log(N_x), c='darkorange')\n",
    "plt.xlabel('N - size of each sequence')\n",
    "plt.ylabel('Seconds for a single iteration')\n",
    "plt.legend()\n",
    "plt.savefig('speed.pdf')"
   ]
  },
  {
   "cell_type": "markdown",
   "metadata": {},
   "source": [
    "# Now compare with jit"
   ]
  },
  {
   "cell_type": "code",
   "execution_count": 17,
   "metadata": {},
   "outputs": [],
   "source": [
    "from ProcessEntropy.CrossEntropy import timeseries_cross_entropy as jit_func_pe"
   ]
  },
  {
   "cell_type": "code",
   "execution_count": 20,
   "metadata": {},
   "outputs": [],
   "source": [
    "# Look at run times for increasing N\n",
    "### Process for randomly generating sequences\n",
    "V = 2\n",
    "res = []\n",
    "N_iter = 50\n",
    "times_pe_jit = []\n",
    "times_fe = []\n",
    "tweet_size = 20\n",
    "N_x = []\n",
    "\n",
    "for N in range(1,2502,200):\n",
    "\n",
    "    N_s = N\n",
    "    N_t = N\n",
    "\n",
    "    for _ in range(N_iter):\n",
    "        N_x.append(tweet_size*N)\n",
    "        list_source = np.random.randint(0,V,tweet_size*N_s)\n",
    "        list_target = np.random.randint(0,V,tweet_size*N_s)\n",
    "\n",
    "        times_s = np.sort(2*np.random.rand(N_s) + 0.2*np.arange(N_s))\n",
    "        times_t = np.sort(2*np.random.rand(N_t) + 0.2*np.arange(N_t))\n",
    "\n",
    "\n",
    "        time_tweets_target = [(times_t[i],list(list_target[tweet_size*i:tweet_size*i+tweet_size])) for i in range(N_t)]\n",
    "        time_tweets_source = [(times_s[i],list(list_source[tweet_size*i:tweet_size*i+tweet_size])) for i in range(N_s)]\n",
    "\n",
    "\n",
    "        nowpe = datetime.datetime.now()\n",
    "        lambdas_pe = jit_func_pe(time_tweets_target, time_tweets_source)\n",
    "        thenpe = datetime.datetime.now()\n",
    "\n",
    "        nowfe = datetime.datetime.now()\n",
    "        lambdas_fe = timeseries_cross_entropy_FE_entropy(time_tweets_target, time_tweets_source)\n",
    "        thenfe = datetime.datetime.now()\n",
    "\n",
    "        times_pe_jit.append((thenpe-nowpe).total_seconds())\n",
    "        times_fe.append((thenfe-nowfe).total_seconds())"
   ]
  },
  {
   "cell_type": "code",
   "execution_count": 24,
   "metadata": {},
   "outputs": [
    {
     "data": {
      "image/png": "[encoded data removed]",
      "text/plain": [
       "<Figure size 640x480 with 1 Axes>"
      ]
     },
     "metadata": {},
     "output_type": "display_data"
    }
   ],
   "source": [
    "N_x = np.array(N_x)\n",
    "plt.scatter(N_x,times_pe_jit, label = 'ProcessEntropy JIT',s=1)\n",
    "sns.lineplot(x=N_x, y=times_pe_jit, linewidth=0)\n",
    "sns.lineplot(x=N_x, y=0.75/(1601600400)*N_x**2, c='darkblue')\n",
    "plt.scatter(N_x,times_fe, label = 'FastEntropy', s=1)\n",
    "sns.lineplot(x=N_x, y=times_fe, linewidth=0)\n",
    "sns.lineplot(x=N_x, y = 0.11/4.24097327e+05*N_x*np.log(N_x), c='darkorange')\n",
    "plt.xlabel('N - size of each sequence')\n",
    "plt.ylabel('Seconds for a single iteration')\n",
    "plt.legend()\n",
    "plt.savefig('speedjit.pdf')"
   ]
  },
  {
   "cell_type": "markdown",
   "metadata": {},
   "source": [
    "# timings"
   ]
  },
  {
   "cell_type": "code",
   "execution_count": 16,
   "metadata": {},
   "outputs": [
    {
     "name": "stdout",
     "output_type": "stream",
     "text": [
      "93.8 µs ± 306 ns per loop (mean ± std. dev. of 7 runs, 10,000 loops each)\n"
     ]
    }
   ],
   "source": [
    "%timeit timeseries_cross_entropy_PE_entropy(time_tweets_target, time_tweets_source)"
   ]
  },
  {
   "cell_type": "code",
   "execution_count": 24,
   "metadata": {},
   "outputs": [
    {
     "name": "stdout",
     "output_type": "stream",
     "text": [
      "3.96 ms ± 39.5 µs per loop (mean ± std. dev. of 7 runs, 100 loops each)\n"
     ]
    }
   ],
   "source": [
    "%timeit timeseries_cross_entropy_FE_entropy(time_tweets_target, time_tweets_source)"
   ]
  },
  {
   "cell_type": "code",
   "execution_count": 17,
   "metadata": {},
   "outputs": [
    {
     "name": "stdout",
     "output_type": "stream",
     "text": [
      "The line_profiler extension is already loaded. To reload it, use:\n",
      "  %reload_ext line_profiler\n"
     ]
    }
   ],
   "source": [
    "%load_ext line_profiler"
   ]
  },
  {
   "cell_type": "code",
   "execution_count": 18,
   "metadata": {},
   "outputs": [
    {
     "name": "stdout",
     "output_type": "stream",
     "text": [
      "Timer unit: 1e-09 s\n",
      "\n",
      "Total time: 0.000572 s\n",
      "File: /var/folders/wp/758jq81s3hs0jlp8_31261sc0000gn/T/ipykernel_1861/892030647.py\n",
      "Function: timeseries_cross_entropy_FE_entropy at line 1\n",
      "\n",
      "Line #      Hits         Time  Per Hit   % Time  Line Contents\n",
      "==============================================================\n",
      "     1                                           def timeseries_cross_entropy_FE_entropy(time_tweets_target, time_tweets_source):\n",
      "     2                                           \n",
      "     3                                               '''\n",
      "     4                                               ** FAST ENTROPY ***\n",
      "     5                                           \n",
      "     6                                               Modified version of the timeseries_cross_entropy function (removed please sanitize), to make equivalent between the original and the FastEntropy implementation.\n",
      "     7                                           \n",
      "     8                                               Function expects two inputs in the form of a list of time-tweet tuples:\n",
      "     9                                           \n",
      "    10                                               [(time, [list of integers]),....]\n",
      "    11                                               '''\n",
      "    12                                           \n",
      "    13         1       6000.0   6000.0      1.0      decorated_target = [ (time,\"target\",tweet) for time,tweet in time_tweets_target ]\n",
      "    14         1       4000.0   4000.0      0.7      decorated_source = [ (time,\"source\",tweet) for time,tweet in time_tweets_source ]\n",
      "    15                                                   \n",
      "    16                                               # Join time series:\n",
      "    17         1          0.0      0.0      0.0      time_tweets = decorated_target + decorated_source\n",
      "    18                                           \n",
      "    19                                               # Sort in place by time:                                                                                                                 \n",
      "    20         1       5000.0   5000.0      0.9      time_tweets.sort()\n",
      "    21                                           \n",
      "    22                                               # Loop over combined tweets and build word vectors and target->source relative_pos:                                                                     \n",
      "    23         1          0.0      0.0      0.0      target, source, relative_pos = [], [], []\n",
      "    24        40       7000.0    175.0      1.2      for time,user,tweet in time_tweets:\n",
      "    25        40       4000.0    100.0      0.7          words = tweet\n",
      "    26        20       4000.0    200.0      0.7          if user == \"target\":\n",
      "    27        20       3000.0    150.0      0.5              target.extend(words)\n",
      "    28        20       9000.0    450.0      1.6              relative_pos.extend( [len(source)]*len(words) )\n",
      "    29                                                   else:                                                                                                                        \n",
      "    30        20       8000.0    400.0      1.4              source.extend(words)\n",
      "    31                                                       \n",
      "    32         1      22000.0  22000.0      3.8      target = np.array(target, dtype = np.uint32)\n",
      "    33         1      11000.0  11000.0      1.9      source = np.array(source, dtype = np.uint32)\n",
      "    34         1       6000.0   6000.0      1.0      relative_pos = np.array(relative_pos, dtype = np.uint32)\n",
      "    35                                           \n",
      "    36                                               # set up objects\n",
      "    37         1     159000.0 159000.0     27.8      source = lcs.Vector1D([int(x) for x in ([np.floor(x) for x in source])])\n",
      "    38         1     134000.0 134000.0     23.4      target = lcs.Vector1D([int(x) for x in ([np.floor(x) for x in target])])\n",
      "    39                                           \n",
      "    40         1      60000.0  60000.0     10.5      ob = lcs.LCSFinder(target,source) # s1 and then s2\n",
      "    41                                           \n",
      "    42         1      60000.0  60000.0     10.5      l_t =  lcs.Vector2D(tuple((i,int(relative_pos[i])) for i in range(len(relative_pos))))\n",
      "    43                                               \n",
      "    44         1      70000.0  70000.0     12.2      fastentropy_lambdas = np.array([x+1 for x in ob.ComputeAllLCSs(l_t)])\n",
      "    45                                           \n",
      "    46         1          0.0      0.0      0.0      return fastentropy_lambdas"
     ]
    }
   ],
   "source": [
    "%lprun -f timeseries_cross_entropy_FE_entropy timeseries_cross_entropy_FE_entropy(time_tweets_target, time_tweets_source)"
   ]
  },
  {
   "cell_type": "code",
   "execution_count": 25,
   "metadata": {},
   "outputs": [
    {
     "name": "stdout",
     "output_type": "stream",
     "text": [
      "Timer unit: 1e-09 s\n",
      "\n",
      "Total time: 0 s\n",
      "File: /var/folders/wp/758jq81s3hs0jlp8_31261sc0000gn/T/ipykernel_1861/1467422569.py\n",
      "Function: timeseries_cross_entropy_PE_entropy at line 1\n",
      "\n",
      "Line #      Hits         Time  Per Hit   % Time  Line Contents\n",
      "==============================================================\n",
      "     1                                           def timeseries_cross_entropy_PE_entropy(time_tweets_target, time_tweets_source):\n",
      "     2                                           \n",
      "     3                                               '''\n",
      "     4                                               Modified version of the timeseries_cross_entropy function (removed please sanitize), to make equivalent between the original and the FastEntropy implementation.\n",
      "     5                                           \n",
      "     6                                               Function expects two inputs in the form of a list of time-tweet tuples:\n",
      "     7                                           \n",
      "     8                                               [(time, [list of symbols]),....]\n",
      "     9                                               '''\n",
      "    10                                           \n",
      "    11                                               decorated_target = [ (time,\"target\",tweet) for time,tweet in time_tweets_target ]\n",
      "    12                                               decorated_source = [ (time,\"source\",tweet) for time,tweet in time_tweets_source ]\n",
      "    13                                                   \n",
      "    14                                               # Join time series:\n",
      "    15                                               time_tweets = decorated_target + decorated_source\n",
      "    16                                           \n",
      "    17                                               # Sort in place by time:                                                                                                                 \n",
      "    18                                               time_tweets.sort()\n",
      "    19                                           \n",
      "    20                                               # Loop over combined tweets and build word vectors and target->source relative_pos:                                                                     \n",
      "    21                                               target, source, relative_pos = [], [], []\n",
      "    22                                               for time,user,tweet in time_tweets:\n",
      "    23                                                   words = tweet\n",
      "    24                                                   if user == \"target\":\n",
      "    25                                                       target.extend(words)\n",
      "    26                                                       relative_pos.extend( [len(source)]*len(words) )\n",
      "    27                                                   else:                                                                                                                        \n",
      "    28                                                       source.extend(words)\n",
      "    29                                                       \n",
      "    30                                               \n",
      "    31                                               target = np.array(target, dtype = np.uint32)\n",
      "    32                                               source = np.array(source, dtype = np.uint32)\n",
      "    33                                               relative_pos = np.array(relative_pos, dtype = np.uint32)\n",
      "    34                                           \n",
      "    35                                               lambdas = np.zeros(len(target), dtype = np.uint32) # Premake for efficiency\n",
      "    36                                               \n",
      "    37                                               original_lambdas = get_all_lambdas_m(target, source, relative_pos, lambdas)\n",
      "    38                                           \n",
      "    39                                               return original_lambdas"
     ]
    }
   ],
   "source": [
    "%lprun -f timeseries_cross_entropy_PE_entropy timeseries_cross_entropy_FE_entropy(time_tweets_target, time_tweets_source)"
   ]
  },
  {
   "cell_type": "markdown",
   "metadata": {},
   "source": [
    "### Notes\n",
    "\n",
    "Most of the time is spend on constructing the objects"
   ]
  },
  {
   "cell_type": "markdown",
   "metadata": {},
   "source": [
    "# Equivalent function for self-entropy"
   ]
  },
  {
   "cell_type": "code",
   "execution_count": 64,
   "metadata": {},
   "outputs": [],
   "source": [
    "from ProcessEntropy.SelfEntropy import get_all_self_lambdas"
   ]
  },
  {
   "cell_type": "code",
   "execution_count": 65,
   "metadata": {},
   "outputs": [],
   "source": [
    "def get_all_self_lambdas_FE_entropy(source):\n",
    "    \"\"\" \n",
    "    Internal function.\n",
    "    Finds the Lambda value for each index in the source.\n",
    "    Lambda value denotes the longest subsequence of the source, \n",
    "    starting from the index, that in contained contiguously in the source,\n",
    "    before the index.\n",
    "    \n",
    "    Args:        \n",
    "        source: Arry of ints, usually corresponding to hashed words.\n",
    "            \n",
    "        lambdas: A premade array of length(target), usually filled with zeros. \n",
    "            Used for efficiency reasons.\n",
    "        \n",
    "    Return:\n",
    "        A list of ints, denoting the value for Lambda for each index in the target. \n",
    "    \n",
    "    \"\"\"\n",
    "    \n",
    "    N = len(source)\n",
    "    \n",
    "    l_t =  lcs.Vector2D(tuple((i,i) for i in range(1,len(source))))\n",
    "\n",
    "    source_ob = lcs.Vector1D([int(x) for x in ([np.floor(x) for x in source])])\n",
    "\n",
    "    ob = lcs.LCSFinder(source_ob,source_ob)\n",
    "            \n",
    "    return np.array([0]+[x+1 for x in ob.ComputeAllLCSs(l_t)])\n"
   ]
  },
  {
   "attachments": {},
   "cell_type": "markdown",
   "metadata": {},
   "source": [
    "### test performance is stable and matches ProcessEntropy for a large number of random examples"
   ]
  },
  {
   "cell_type": "code",
   "execution_count": 40,
   "metadata": {},
   "outputs": [
    {
     "data": {
      "text/plain": [
       "True"
      ]
     },
     "execution_count": 40,
     "metadata": {},
     "output_type": "execute_result"
    }
   ],
   "source": [
    "N_iter = 1000\n",
    "V = 20\n",
    "seq_length = 10000\n",
    "res = []\n",
    "\n",
    "for _ in range(N_iter):\n",
    "    a = np.random.randint(0,V,seq_length)\n",
    "    res.append(np.all(get_all_self_lambdas_FE_entropy(a) == get_all_self_lambdas(a, np.zeros(len(a)))))\n",
    "\n",
    "np.all(res)"
   ]
  },
  {
   "cell_type": "markdown",
   "metadata": {},
   "source": [
    "### timing"
   ]
  },
  {
   "cell_type": "code",
   "execution_count": 71,
   "metadata": {},
   "outputs": [],
   "source": [
    "# Look at run times for increasing N\n",
    "### Process for randomly generating sequences\n",
    "\n",
    "N_iter = 10\n",
    "V = 20\n",
    "res = []\n",
    "times_pe_self = []\n",
    "times_fe_self = []\n",
    "N_x_self = []\n",
    "\n",
    "\n",
    "for seq_length in range(1,50002,200):\n",
    "    for _ in range(N_iter):\n",
    "        N_x_self.append(seq_length)\n",
    "        a = np.random.randint(0,V,seq_length)\n",
    "\n",
    "        nowfe = datetime.datetime.now()\n",
    "        get_all_self_lambdas_FE_entropy(a)\n",
    "        thenfe = datetime.datetime.now()\n",
    "\n",
    "        nowpe = datetime.datetime.now()\n",
    "        get_all_self_lambdas(a, np.zeros(len(a)))\n",
    "        thenpe = datetime.datetime.now()\n",
    "\n",
    "        times_pe_self.append((thenpe-nowpe).total_seconds())\n",
    "        times_fe_self.append((thenfe-nowfe).total_seconds())\n"
   ]
  },
  {
   "cell_type": "code",
   "execution_count": 72,
   "metadata": {},
   "outputs": [
    {
     "data": {
      "image/png": "[encoded data removed]",
      "text/plain": [
       "<Figure size 640x480 with 1 Axes>"
      ]
     },
     "metadata": {},
     "output_type": "display_data"
    }
   ],
   "source": [
    "N_x_self = np.array(N_x_self)\n",
    "plt.scatter(N_x_self,times_pe_self, label = 'ProcessEntropy Self Entropy', s=1)\n",
    "sns.lineplot(x = N_x_self, y=times_pe_self, linewidth=0)\n",
    "# sns.lineplot(x=N_x_self, y=0.25/(50000**2)*N_x_self**2, c='darkblue')\n",
    "plt.scatter(N_x_self,times_fe_self, label = 'FastEntropy Self Entropy', s=1)\n",
    "sns.lineplot(x = N_x_self, y=times_fe_self, linewidth=0)\n",
    "# sns.lineplot(x=N_x_self, y = 0.11/4.24097327e+05*N_x_self*np.log(N_x_self), c='darkorange')\n",
    "plt.xlabel('N - length of the sequence')\n",
    "plt.ylabel('Seconds for a single iteration')\n",
    "plt.legend()\n",
    "plt.savefig('speedselfent.pdf')"
   ]
  },
  {
   "cell_type": "markdown",
   "metadata": {},
   "source": [
    "# test cases"
   ]
  },
  {
   "cell_type": "markdown",
   "metadata": {},
   "source": []
  },
  {
   "cell_type": "code",
   "execution_count": 26,
   "metadata": {},
   "outputs": [],
   "source": [
    "def b_one_iter(N_s, N_t,V,tweet_size):\n",
    "\n",
    "    return one_iter(N_s, N_t,V,tweet_size)\n",
    "\n",
    "\n",
    "def one_iter(N_s, N_t,V,tweet_size):\n",
    "    list_source = np.random.randint(0,V,tweet_size*N_s)\n",
    "    list_target = np.random.randint(0,V,tweet_size*N_s)\n",
    "\n",
    "    times_s = np.sort(2*np.random.rand(N_s) + 0.2*np.arange(N_s))\n",
    "    times_t = np.sort(2*np.random.rand(N_t) + 0.2*np.arange(N_t))\n",
    "\n",
    "\n",
    "    time_tweets_target = [(times_t[i],list(list_target[tweet_size*i:tweet_size*i+tweet_size])) for i in range(N_t)]\n",
    "    time_tweets_source = [(times_s[i],list(list_source[tweet_size*i:tweet_size*i+tweet_size])) for i in range(N_s)]\n",
    "\n",
    "\n",
    "    return np.all(timeseries_cross_entropy_PE_entropy(time_tweets_target, time_tweets_source) == timeseries_cross_entropy_PE_entropy_original(time_tweets_target, time_tweets_source))\n"
   ]
  },
  {
   "cell_type": "code",
   "execution_count": 27,
   "metadata": {},
   "outputs": [],
   "source": [
    "### Process for randomly generating sequences\n",
    "V = 10\n",
    "res = []\n",
    "N_iter = 10\n",
    "\n",
    "for tweet_size in np.arange(5,50,5):\n",
    "    for N in range(100,1002,10):\n",
    "\n",
    "        N_s = N\n",
    "        N_t = N\n",
    "\n",
    "        for _ in range(N_iter):\n",
    "            res.append(b_one_iter(N_s, N_t,V,tweet_size))\n"
   ]
  },
  {
   "cell_type": "code",
   "execution_count": 17,
   "metadata": {},
   "outputs": [
    {
     "data": {
      "text/plain": [
       "False"
      ]
     },
     "execution_count": 17,
     "metadata": {},
     "output_type": "execute_result"
    }
   ],
   "source": [
    "N_s = 1\n",
    "N_t = 1\n",
    "tweet_size = 50\n",
    "V=5\n",
    "\n",
    "one_iter(N_s, N_t,V,tweet_size)"
   ]
  },
  {
   "cell_type": "code",
   "execution_count": null,
   "metadata": {},
   "outputs": [],
   "source": []
  }
 ],
 "metadata": {
  "kernelspec": {
   "display_name": "FastEntropy",
   "language": "python",
   "name": "python3"
  },
  "language_info": {
   "codemirror_mode": {
    "name": "ipython",
    "version": 3
   },
   "file_extension": ".py",
   "mimetype": "text/x-python",
   "name": "python",
   "nbconvert_exporter": "python",
   "pygments_lexer": "ipython3",
   "version": "3.9.16"
  },
  "orig_nbformat": 4,
  "vscode": {
   "interpreter": {
    "hash": "dee4ddf64dc47e7af4ac152e3c0bd4c4411732d2ad40e4334a13e38a97cc73c3"
   }
  }
 },
 "nbformat": 4,
 "nbformat_minor": 2
}
