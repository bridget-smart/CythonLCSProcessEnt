{
 "cells": [
  {
   "cell_type": "code",
   "execution_count": 32,
   "metadata": {},
   "outputs": [],
   "source": [
    "# load packages\n",
    "import LCSFinder as lcs\n",
    "import numpy as np\n",
    "import LCSV2 as lcs_list_typed\n",
    "from processentfunctions import *\n",
    "import datetime\n",
    "import matplotlib.pyplot as plt\n",
    "import seaborn as sns"
   ]
  },
  {
   "cell_type": "code",
   "execution_count": 33,
   "metadata": {},
   "outputs": [],
   "source": [
    "def timeseries_cross_entropy_PE_entropy(time_tweets_target, time_tweets_source):\n",
    "\n",
    "    '''\n",
    "    Modified version of the timeseries_cross_entropy function (removed please sanitize), to make equivalent between the original and the FastEntropy implementation.\n",
    "\n",
    "    Function expects two inputs in the form of a list of time-tweet tuples:\n",
    "\n",
    "    [(time, [list of symbols]),....]\n",
    "    '''\n",
    "\n",
    "    decorated_target = [ (time,\"target\",tweet) for time,tweet in time_tweets_target ]\n",
    "    decorated_source = [ (time,\"source\",tweet) for time,tweet in time_tweets_source ]\n",
    "        \n",
    "    # Join time series:\n",
    "    time_tweets = decorated_target + decorated_source\n",
    "\n",
    "    # Sort in place by time:                                                                                                                 \n",
    "    time_tweets.sort()\n",
    "\n",
    "    # Loop over combined tweets and build word vectors and target->source relative_pos:                                                                     \n",
    "    target, source, relative_pos = [], [], []\n",
    "    for time,user,tweet in time_tweets:\n",
    "        words = tweet\n",
    "        if user == \"target\":\n",
    "            target.extend(words)\n",
    "            relative_pos.extend( [len(source)]*len(words) )\n",
    "        else:                                                                                                                        \n",
    "            source.extend(words)\n",
    "            \n",
    "    \n",
    "    target = np.array(target, dtype = np.uint32)\n",
    "    source = np.array(source, dtype = np.uint32)\n",
    "    relative_pos = np.array(relative_pos, dtype = np.uint32)\n",
    "\n",
    "    lambdas = np.zeros(len(target), dtype = np.uint32) # Premake for efficiency\n",
    "    \n",
    "    original_lambdas = get_all_lambdas_m(target, source, relative_pos, lambdas)\n",
    "\n",
    "    return original_lambdas"
   ]
  },
  {
   "cell_type": "code",
   "execution_count": 34,
   "metadata": {},
   "outputs": [],
   "source": [
    "def timeseries_cross_entropy_FE_LCS(time_tweets_target, time_tweets_source):\n",
    "\n",
    "    '''\n",
    "    ** FAST ENTROPY ***\n",
    "\n",
    "    Modified version of the timeseries_cross_entropy function (removed please sanitize), to make equivalent between the original and the FastEntropy implementation.\n",
    "\n",
    "    Function expects two inputs in the form of a list of time-tweet tuples:\n",
    "\n",
    "    [(time, [list of integers]),....]\n",
    "    '''\n",
    "\n",
    "    decorated_target = [ (time,\"target\",tweet) for time,tweet in time_tweets_target ]\n",
    "    decorated_source = [ (time,\"source\",tweet) for time,tweet in time_tweets_source ]\n",
    "        \n",
    "    # Join time series:\n",
    "    time_tweets = decorated_target + decorated_source\n",
    "\n",
    "    # Sort in place by time:                                                                                                                 \n",
    "    time_tweets.sort()\n",
    "\n",
    "    # Loop over combined tweets and build word vectors and target->source relative_pos:                                                                     \n",
    "    target, source, relative_pos = [], [], []\n",
    "    for time,user,tweet in time_tweets:\n",
    "        words = tweet\n",
    "        if user == \"target\":\n",
    "            target.extend(words)\n",
    "            relative_pos.extend( [len(source)]*len(words) )\n",
    "        else:                                                                                                                        \n",
    "            source.extend(words)\n",
    "            \n",
    "    target = np.array(target, dtype = np.uint32)\n",
    "    source = np.array(source, dtype = np.uint32)\n",
    "    relative_pos = np.array(relative_pos, dtype = np.uint32)\n",
    "\n",
    "    # set up objects\n",
    "    source = lcs.Vector1D([int(x) for x in ([np.floor(x) for x in source])])\n",
    "    target = lcs.Vector1D([int(x) for x in ([np.floor(x) for x in target])])\n",
    "\n",
    "    ob = lcs.LCSFinder(target,source) # s1 and then s2\n",
    "\n",
    "    l_t =  lcs.Vector2D(tuple((i,int(relative_pos[i])) for i in range(len(relative_pos))))\n",
    "    \n",
    "    fastentropy_lambdas = np.array([x+1 for x in ob.ComputeAllLCSs(l_t)])\n",
    "\n",
    "    return fastentropy_lambdas"
   ]
  },
  {
   "cell_type": "code",
   "execution_count": 42,
   "metadata": {},
   "outputs": [],
   "source": [
    "def timeseries_cross_entropy_FE_Cython(time_tweets_target, time_tweets_source):\n",
    "\n",
    "    '''\n",
    "    ** FAST ENTROPY ***\n",
    "\n",
    "    Modified version of the timeseries_cross_entropy function (removed please sanitize), to make equivalent between the original and the FastEntropy implementation.\n",
    "\n",
    "    Function expects two inputs in the form of a list of time-tweet tuples:\n",
    "\n",
    "    [(time, [list of integers]),....]\n",
    "    '''\n",
    "\n",
    "    decorated_target = [ (time,\"target\",tweet) for time,tweet in time_tweets_target ]\n",
    "    decorated_source = [ (time,\"source\",tweet) for time,tweet in time_tweets_source ]\n",
    "        \n",
    "    # Join time series:\n",
    "    time_tweets = decorated_target + decorated_source\n",
    "\n",
    "    # Sort in place by time:                                                                                                                 \n",
    "    time_tweets.sort()\n",
    "\n",
    "    # Loop over combined tweets and build word vectors and target->source relative_pos:                                                                     \n",
    "    target, source, relative_pos = [], [], []\n",
    "    for time,user,tweet in time_tweets:\n",
    "        words = tweet\n",
    "        if user == \"target\":\n",
    "            target.extend(words)\n",
    "            relative_pos.extend( [len(source)]*len(words) )\n",
    "        else:                                                                                                                        \n",
    "            source.extend(words)\n",
    "        \n",
    "    ob_ty = lcs_list_typed.LCSFinder(target, source) # s1 and then s2\n",
    "\n",
    "    l_t =  [(i,i) for i in range(len(relative_pos))]\n",
    "    # print(l_t)\n",
    "    \n",
    "    cython_lambdas = np.array([x+1 for x in ob_ty.ComputeAllLCSs(l_t)])\n",
    "\n",
    "    return cython_lambdas"
   ]
  },
  {
   "cell_type": "code",
   "execution_count": 38,
   "metadata": {},
   "outputs": [],
   "source": [
    "N_s = 10\n",
    "N_t = 10\n",
    "V = 5\n",
    "tweet_size = 1\n",
    "\n",
    "list_source = np.array([1, 1, 3, 0, 4, 1, 4, 4, 2, 1])\n",
    "list_target = np.array([0, 1, 0, 1, 3, 2, 1, 4, 0, 0])\n",
    "\n",
    "times_s = np.arange(N_s)+0.5 #np.sort(2*np.random.rand(N_s) + 0.2*np.arange(N_s))\n",
    "times_t = np.arange(N_s) #np.sort(2*np.random.rand(N_t) + 0.2*np.arange(N_t))\n",
    "\n",
    "\n",
    "time_tweets_target = [(times_t[i],list(list_target[tweet_size*i:tweet_size*i+tweet_size])) for i in range(N_t)]\n",
    "time_tweets_source = [(times_s[i],list(list_source[tweet_size*i:tweet_size*i+tweet_size])) for i in range(N_s)]"
   ]
  },
  {
   "cell_type": "code",
   "execution_count": 39,
   "metadata": {},
   "outputs": [
    {
     "data": {
      "text/plain": [
       "array([1, 2, 1, 3, 2, 1, 2, 2, 2, 2], dtype=uint32)"
      ]
     },
     "execution_count": 39,
     "metadata": {},
     "output_type": "execute_result"
    }
   ],
   "source": [
    "timeseries_cross_entropy_PE_entropy(time_tweets_target, time_tweets_source)"
   ]
  },
  {
   "cell_type": "code",
   "execution_count": 40,
   "metadata": {},
   "outputs": [
    {
     "data": {
      "text/plain": [
       "array([1, 2, 1, 3, 2, 1, 2, 2, 2, 2])"
      ]
     },
     "execution_count": 40,
     "metadata": {},
     "output_type": "execute_result"
    }
   ],
   "source": [
    "timeseries_cross_entropy_FE_LCS(time_tweets_target, time_tweets_source) "
   ]
  },
  {
   "cell_type": "code",
   "execution_count": 29,
   "metadata": {},
   "outputs": [
    {
     "data": {
      "text/plain": [
       "array([1, 2, 1, 3, 2, 1, 3, 2, 2, 2])"
      ]
     },
     "execution_count": 29,
     "metadata": {},
     "output_type": "execute_result"
    }
   ],
   "source": [
    "np.array([0, 1, 0, 2, 1, 0, 2, 1, 1, 1])+1"
   ]
  },
  {
   "cell_type": "code",
   "execution_count": 43,
   "metadata": {},
   "outputs": [
    {
     "data": {
      "text/plain": [
       "array([1, 2, 1, 3, 2, 1, 3, 2, 2, 2])"
      ]
     },
     "execution_count": 43,
     "metadata": {},
     "output_type": "execute_result"
    }
   ],
   "source": [
    "timeseries_cross_entropy_FE_Cython(time_tweets_target, time_tweets_source) #### HAS OVERLAPS"
   ]
  },
  {
   "cell_type": "code",
   "execution_count": 10,
   "metadata": {},
   "outputs": [
    {
     "name": "stdout",
     "output_type": "stream",
     "text": [
      "[(0, 1), (1, 2), (2, 3), (3, 4), (4, 5), (5, 6), (6, 7), (7, 8), (8, 9), (9, 10)]\n"
     ]
    },
    {
     "data": {
      "text/plain": [
       "array([ True,  True,  True,  True,  True,  True, False,  True,  True,\n",
       "        True])"
      ]
     },
     "execution_count": 10,
     "metadata": {},
     "output_type": "execute_result"
    }
   ],
   "source": [
    "timeseries_cross_entropy_FE_Cython(time_tweets_target, time_tweets_source) == timeseries_cross_entropy_FE_LCS(time_tweets_target, time_tweets_source) "
   ]
  },
  {
   "cell_type": "code",
   "execution_count": 20,
   "metadata": {},
   "outputs": [
    {
     "name": "stdout",
     "output_type": "stream",
     "text": [
      "So we are comparing\n",
      "source 0 to n, [1 1 3 0 4 1 4 4 2 1] is compared to target to 1, [0]\n",
      "source 1 to n, [1 3 0 4 1 4 4 2 1] is compared to target to 2, [0 1]\n",
      "source 2 to n, [3 0 4 1 4 4 2 1] is compared to target to 3, [0 1 0]\n",
      "source 3 to n, [0 4 1 4 4 2 1] is compared to target to 4, [0 1 0 1]\n",
      "source 4 to n, [4 1 4 4 2 1] is compared to target to 5, [0 1 0 1 3]\n",
      "source 5 to n, [1 4 4 2 1] is compared to target to 6, [0 1 0 1 3 2]\n",
      "source 6 to n, [4 4 2 1] is compared to target to 7, [0 1 0 1 3 2 1]\n",
      "source 7 to n, [4 2 1] is compared to target to 8, [0 1 0 1 3 2 1 4]\n",
      "source 8 to n, [2 1] is compared to target to 9, [0 1 0 1 3 2 1 4 0]\n",
      "source 9 to n, [1] is compared to target to 10, [0 1 0 1 3 2 1 4 0 0]\n",
      "match lengths of (0, 1, 0, 2, 1, 0, 1, 1, 1, 1)\n"
     ]
    }
   ],
   "source": [
    "# initialise strings\n",
    "\n",
    "list_source = np.array([1, 1, 3, 0, 4, 1, 4, 4, 2, 1])\n",
    "list_target = np.array([0, 1, 0, 1, 3, 2, 1, 4, 0, 0])\n",
    "\n",
    "\n",
    "# set up objects\n",
    "source = lcs.Vector1D([int(x) for x in ([np.floor(x) for x in list_source])])\n",
    "target = lcs.Vector1D([int(x) for x in ([np.floor(x) for x in list_target])])\n",
    "ob = lcs.LCSFinder(target, source) # s1 and then s2\n",
    "\n",
    "# s1 = source\n",
    "# s2 = target\n",
    "\n",
    "# set up indices to search from\n",
    "l_t =  lcs.Vector2D(tuple((i,i) for i in range(len(list_source))))\n",
    "\n",
    "m_len = ob.ComputeAllLCSs(l_t)\n",
    "\n",
    "search = tuple((i,i+1) for i in range(len(list_source)))\n",
    "print(f'So we are comparing')\n",
    "[print(f'source {x[0]} to n, {list_source[x[0]:]} is compared to target to {x[1]}, {list_target[:x[1]]}') for x in search]\n",
    "\n",
    "print(f'match lengths of {m_len}')\n",
    "\n",
    "# which gives the same as the new code"
   ]
  },
  {
   "cell_type": "code",
   "execution_count": 23,
   "metadata": {},
   "outputs": [
    {
     "data": {
      "text/plain": [
       "array([ True,  True,  True,  True,  True,  True,  True,  True,  True,\n",
       "        True])"
      ]
     },
     "execution_count": 23,
     "metadata": {},
     "output_type": "execute_result"
    }
   ],
   "source": [
    "np.array(m_len)+1 == np.array([1, 2, 1, 2, 1, 2, 1, 2, 3, 2]) # agrees with LCS.py"
   ]
  },
  {
   "cell_type": "markdown",
   "metadata": {},
   "source": [
    "# debugging"
   ]
  },
  {
   "cell_type": "code",
   "execution_count": 7,
   "metadata": {},
   "outputs": [],
   "source": [
    "s1 = [1, 1, 3, 0, 4, 1, 4, 4, 2, 1]\n",
    "s2 = [0, 1, 0, 1, 3, 2, 1, 4, 0, 0]"
   ]
  },
  {
   "cell_type": "code",
   "execution_count": 6,
   "metadata": {},
   "outputs": [
    {
     "data": {
      "text/plain": [
       "(10, 20, 19, 11, 13, 3, 9, 12, 0, 1, 14, 17, 5, 8, 16, 2, 15, 18, 4, 7, 6)"
      ]
     },
     "execution_count": 6,
     "metadata": {},
     "output_type": "execute_result"
    }
   ],
   "source": [
    "# Define two sequences\n",
    "s1 = lcs.Vector1D([int(x) for x in ([np.floor(x) for x in s1])])\n",
    "s2 = lcs.Vector1D([int(x) for x in ([np.floor(x) for x in s2])])\n",
    "# Create an instance of the LCSFinder class\n",
    "lcs_finder = lcs.LCSFinder(s1, s2)\n",
    "lcs_finder.GetSA()\n"
   ]
  },
  {
   "cell_type": "code",
   "execution_count": 10,
   "metadata": {},
   "outputs": [
    {
     "data": {
      "text/plain": [
       "[10, 20, 19, 11, 13, 3, 9, 12, 0, 1, 14, 17, 5, 8, 16, 2, 15, 18, 4, 7, 6]"
      ]
     },
     "execution_count": 10,
     "metadata": {},
     "output_type": "execute_result"
    }
   ],
   "source": [
    "lcs_list_typed.LCSFinder(s1,s2).GetSA()"
   ]
  },
  {
   "cell_type": "markdown",
   "metadata": {},
   "source": [
    "# timings"
   ]
  },
  {
   "cell_type": "code",
   "execution_count": 48,
   "metadata": {},
   "outputs": [],
   "source": [
    "# Look at run times for increasing N\n",
    "### Process for randomly generating sequences\n",
    "V = 2\n",
    "res = []\n",
    "N_iter = 20\n",
    "times_pe = []\n",
    "times_fe = []\n",
    "times_fet = []\n",
    "tweet_size = 10\n",
    "N_x = []\n",
    "\n",
    "for N in range(1,2002,200):\n",
    "\n",
    "    N_s = N\n",
    "    N_t = N\n",
    "\n",
    "    for _ in range(N_iter):\n",
    "        N_x.append(tweet_size*N)\n",
    "        list_source = np.random.randint(0,V,tweet_size*N_s)\n",
    "        list_target = np.random.randint(0,V,tweet_size*N_s)\n",
    "\n",
    "        times_s = np.sort(2*np.random.rand(N_s) + 0.2*np.arange(N_s))\n",
    "        times_t = np.sort(2*np.random.rand(N_t) + 0.2*np.arange(N_t))\n",
    "\n",
    "\n",
    "        time_tweets_target = [(times_t[i],list(list_target[tweet_size*i:tweet_size*i+tweet_size])) for i in range(N_t)]\n",
    "        time_tweets_source = [(times_s[i],list(list_source[tweet_size*i:tweet_size*i+tweet_size])) for i in range(N_s)]\n",
    "\n",
    "\n",
    "        nowpe = datetime.datetime.now()\n",
    "        lambdas_pe = timeseries_cross_entropy_PE_entropy(time_tweets_target, time_tweets_source)\n",
    "        thenpe = datetime.datetime.now()\n",
    "\n",
    "        nowfe = datetime.datetime.now()\n",
    "        lambdas_fe = timeseries_cross_entropy_FE_LCS(time_tweets_target, time_tweets_source)\n",
    "        thenfe = datetime.datetime.now()\n",
    "\n",
    "        nowfet = datetime.datetime.now()\n",
    "        lambdas_fet = timeseries_cross_entropy_FE_Cython(time_tweets_target, time_tweets_source)\n",
    "        thenfet = datetime.datetime.now()\n",
    "\n",
    "        times_pe.append((thenpe-nowpe).total_seconds())\n",
    "        times_fe.append((thenfe-nowfe).total_seconds())\n",
    "        times_fet.append((thenfet-nowfet).total_seconds())"
   ]
  },
  {
   "cell_type": "code",
   "execution_count": 50,
   "metadata": {},
   "outputs": [
    {
     "data": {
      "image/png": "[encoded data removed]",
      "text/plain": [
       "<Figure size 640x480 with 1 Axes>"
      ]
     },
     "metadata": {},
     "output_type": "display_data"
    }
   ],
   "source": [
    "N_x = np.array(N_x)\n",
    "plt.scatter(N_x,times_pe, label = 'ProcessEntropy Debugged', s=1)\n",
    "sns.lineplot(x=N_x, y=times_pe, linewidth=0)\n",
    "sns.lineplot(x=N_x, y=0.76/(1601600400)*N_x**2, c='darkblue')\n",
    "plt.scatter(N_x,times_fe, label = 'FastEntropy',s=1)\n",
    "sns.lineplot(x=N_x, y=times_fe, linewidth=0)\n",
    "sns.lineplot(x=N_x, y = 0.11/4.24097327e+05*N_x*np.log(N_x), c='darkorange')\n",
    "# plt.scatter(N_x,times_fet, label = 'Typed Cython',s=1)\n",
    "# sns.lineplot(x=N_x, y=times_fet, linewidth=0)\n",
    "# sns.lineplot(x=N_x, y = 0.8/4.24097327e+05*N_x*np.log(N_x), c='darkgreen')\n",
    "plt.xlabel('N - size of each sequence')\n",
    "plt.ylabel('Seconds for a single iteration')\n",
    "plt.legend()\n",
    "plt.savefig('speedtriocomparison.pdf')"
   ]
  },
  {
   "cell_type": "code",
   "execution_count": null,
   "metadata": {},
   "outputs": [],
   "source": []
  }
 ],
 "metadata": {
  "kernelspec": {
   "display_name": "FastEntropy",
   "language": "python",
   "name": "python3"
  },
  "language_info": {
   "codemirror_mode": {
    "name": "ipython",
    "version": 3
   },
   "file_extension": ".py",
   "mimetype": "text/x-python",
   "name": "python",
   "nbconvert_exporter": "python",
   "pygments_lexer": "ipython3",
   "version": "3.9.16"
  },
  "orig_nbformat": 4,
  "vscode": {
   "interpreter": {
    "hash": "dee4ddf64dc47e7af4ac152e3c0bd4c4411732d2ad40e4334a13e38a97cc73c3"
   }
  }
 },
 "nbformat": 4,
 "nbformat_minor": 2
}
