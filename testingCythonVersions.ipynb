{
 "cells": [
  {
   "cell_type": "code",
   "execution_count": 1,
   "metadata": {},
   "outputs": [],
   "source": [
    "from LCS import LCSFinder\n",
    "import numpy as np"
   ]
  },
  {
   "cell_type": "code",
   "execution_count": 2,
   "metadata": {},
   "outputs": [],
   "source": [
    "# Define two sequences\n",
    "s1 = np.array([0, 1, 1, 1, 1, 0, 0, 0])\n",
    "s2 = np.array([0, 1, 1, 0, 0, 1, 0, 0])"
   ]
  },
  {
   "cell_type": "code",
   "execution_count": 3,
   "metadata": {},
   "outputs": [],
   "source": [
    "# Create an instance of the LCSFinder class\n",
    "lcs_finder = LCSFinder(s1, s2)"
   ]
  },
  {
   "cell_type": "code",
   "execution_count": 4,
   "metadata": {},
   "outputs": [
    {
     "data": {
      "text/plain": [
       "array([ True,  True,  True,  True,  True,  True,  True,  True,  True,\n",
       "        True,  True,  True,  True,  True,  True,  True,  True])"
      ]
     },
     "execution_count": 4,
     "metadata": {},
     "output_type": "execute_result"
    }
   ],
   "source": [
    "lcs_finder.GetSA() == [8, 16, 7, 15, 6, 5, 12, 13, 9, 0, 14, 4, 11, 3, 10, 2, 1]\n",
    "# original code SA\n",
    "# (8, 16, 7, 15, 6, 5, 12, 13, 9, 0, 14, 4, 11, 3, 10, 2, 1)"
   ]
  },
  {
   "cell_type": "code",
   "execution_count": 5,
   "metadata": {},
   "outputs": [
    {
     "data": {
      "text/plain": [
       "array([1, 2, 2, 2, 2, 1, 1, 1, 0, 1, 2, 2, 1, 1, 2, 1, 1])"
      ]
     },
     "execution_count": 5,
     "metadata": {},
     "output_type": "execute_result"
    }
   ],
   "source": [
    "lcs_finder.GetS()"
   ]
  },
  {
   "cell_type": "code",
   "execution_count": 6,
   "metadata": {},
   "outputs": [
    {
     "data": {
      "text/plain": [
       "array([ True,  True,  True,  True,  True,  True,  True,  True])"
      ]
     },
     "execution_count": 6,
     "metadata": {},
     "output_type": "execute_result"
    }
   ],
   "source": [
    "lcs_finder.ComputeAllLCSs(np.array([(x,x+1) for x in range(len(s2))])) == [1, 1, 2, 3, 3, 2, 2, 1]"
   ]
  },
  {
   "cell_type": "code",
   "execution_count": 7,
   "metadata": {},
   "outputs": [
    {
     "name": "stdout",
     "output_type": "stream",
     "text": [
      "51.4 µs ± 231 ns per loop (mean ± std. dev. of 7 runs, 10,000 loops each)\n"
     ]
    }
   ],
   "source": [
    "%timeit lcs_finder.ComputeAllLCSs([(x,x+1) for x in range(len(s2))])\n",
    "\n",
    "# output from Max's code\n",
    "# (1, 0, 0, 3, 3, 2, 1, 1)"
   ]
  },
  {
   "cell_type": "code",
   "execution_count": 8,
   "metadata": {},
   "outputs": [
    {
     "name": "stdout",
     "output_type": "stream",
     "text": [
      "116 µs ± 660 ns per loop (mean ± std. dev. of 7 runs, 10,000 loops each)\n"
     ]
    }
   ],
   "source": [
    "%%timeit\n",
    "# Define two sequences\n",
    "s1 = np.array([0, 1, 1, 1, 1, 0, 0, 0])\n",
    "s2 = np.array([0, 1, 1, 0, 0, 1, 0, 0])\n",
    "# Create an instance of the LCSFinder class\n",
    "lcs_finder = LCSFinder(s1, s2)\n",
    "lcs_finder.GetSA()\n",
    "# original code SA\n",
    "# (8, 7, 6, 1, 13, 2, 16, 5, 0, 12, 15, 4, 11, 14, 3, 10, 9)\n",
    "lcs_finder.GetS() \n",
    "lcs_finder.ComputeAllLCSs([(x,x+1) for x in range(len(s2))])\n"
   ]
  },
  {
   "cell_type": "markdown",
   "metadata": {},
   "source": [
    "# From C++ code - to beat 19.7 µs ± 300 ns per loop (mean ± std. dev. of 7 runs, 10,000 loops each)"
   ]
  },
  {
   "cell_type": "code",
   "execution_count": 2,
   "metadata": {},
   "outputs": [],
   "source": [
    "from LCS_Cython import *"
   ]
  },
  {
   "cell_type": "markdown",
   "metadata": {},
   "source": [
    "# test without typing"
   ]
  },
  {
   "cell_type": "code",
   "execution_count": 4,
   "metadata": {},
   "outputs": [
    {
     "name": "stdout",
     "output_type": "stream",
     "text": [
      "70.3 µs ± 2.41 µs per loop (mean ± std. dev. of 7 runs, 10,000 loops each)\n"
     ]
    }
   ],
   "source": [
    "%%timeit\n",
    "# Define two sequences\n",
    "s1 = np.array([0, 1, 1, 1, 1, 0, 0, 0])\n",
    "s2 = np.array([0, 1, 1, 0, 0, 1, 0, 0])\n",
    "# Create an instance of the LCSFinder class\n",
    "lcs_finder = LCSFinder(s1, s2)\n",
    "lcs_finder.GetSA()\n",
    "# original code SA\n",
    "# (8, 7, 6, 1, 13, 2, 16, 5, 0, 12, 15, 4, 11, 14, 3, 10, 9)\n",
    "lcs_finder.GetS() \n",
    "lcs_finder.ComputeAllLCSs([(x,x+1) for x in range(len(s2))])\n"
   ]
  },
  {
   "cell_type": "markdown",
   "metadata": {},
   "source": [
    "# now with typing"
   ]
  },
  {
   "cell_type": "code",
   "execution_count": 7,
   "metadata": {},
   "outputs": [],
   "source": [
    "from LCS_Cython import *"
   ]
  },
  {
   "cell_type": "code",
   "execution_count": 8,
   "metadata": {},
   "outputs": [
    {
     "name": "stdout",
     "output_type": "stream",
     "text": [
      "34.9 µs ± 247 ns per loop (mean ± std. dev. of 7 runs, 10,000 loops each)\n"
     ]
    }
   ],
   "source": [
    "%%timeit\n",
    "# Define two sequences\n",
    "s1 = [0, 1, 1, 1, 1, 0, 0, 0]\n",
    "s2 = [0, 1, 1, 0, 0, 1, 0, 0]\n",
    "# Create an instance of the LCSFinder class\n",
    "lcs_finder = LCSFinder(s1, s2)\n",
    "lcs_finder.GetSA()\n",
    "# original code SA\n",
    "# (8, 7, 6, 1, 13, 2, 16, 5, 0, 12, 15, 4, 11, 14, 3, 10, 9)\n",
    "lcs_finder.GetS() \n",
    "lcs_finder.ComputeAllLCSs([(x,x+1) for x in range(len(s2))])\n"
   ]
  },
  {
   "cell_type": "markdown",
   "metadata": {},
   "source": [
    "# List only"
   ]
  },
  {
   "cell_type": "code",
   "execution_count": 1,
   "metadata": {},
   "outputs": [],
   "source": [
    "import LCS_Cython_LIST as lcs_list"
   ]
  },
  {
   "cell_type": "code",
   "execution_count": 2,
   "metadata": {},
   "outputs": [
    {
     "name": "stdout",
     "output_type": "stream",
     "text": [
      "33.9 µs ± 213 ns per loop (mean ± std. dev. of 7 runs, 10,000 loops each)\n"
     ]
    }
   ],
   "source": [
    "%%timeit\n",
    "# Define two sequences\n",
    "s1 = [0, 1, 1, 1, 1, 0, 0, 0]\n",
    "s2 = [0, 1, 1, 0, 0, 1, 0, 0]\n",
    "# Create an instance of the LCSFinder class\n",
    "lcs_finder = lcs_list.LCSFinder(s1, s2)\n",
    "lcs_finder.GetSA()\n",
    "# original code SA\n",
    "# (8, 7, 6, 1, 13, 2, 16, 5, 0, 12, 15, 4, 11, 14, 3, 10, 9)\n",
    "lcs_finder.GetS() \n",
    "lcs_finder.ComputeAllLCSs([(x,x+1) for x in range(len(s2))])\n"
   ]
  },
  {
   "cell_type": "markdown",
   "metadata": {},
   "source": [
    "# add typing to all lists"
   ]
  },
  {
   "cell_type": "code",
   "execution_count": 1,
   "metadata": {},
   "outputs": [],
   "source": [
    "import LCS_Cython_LIST_typed as lcs_list_typed"
   ]
  },
  {
   "cell_type": "code",
   "execution_count": 2,
   "metadata": {},
   "outputs": [
    {
     "data": {
      "text/plain": [
       "[1, 1, 2, 3, 3, 2, 2, 1]"
      ]
     },
     "execution_count": 2,
     "metadata": {},
     "output_type": "execute_result"
    }
   ],
   "source": [
    "# Define two sequences\n",
    "s1 = [0, 1, 1, 1, 1, 0, 0, 0]\n",
    "s2 = [0, 1, 1, 0, 0, 1, 0, 0]\n",
    "# Create an instance of the LCSFinder class\n",
    "lcs_finder = lcs_list_typed.LCSFinder(s1, s2)\n",
    "lcs_finder.GetSA()\n",
    "# original code SA\n",
    "# (8, 7, 6, 1, 13, 2, 16, 5, 0, 12, 15, 4, 11, 14, 3, 10, 9)\n",
    "lcs_finder.GetS() \n",
    "lcs_finder.ComputeAllLCSs([(x,x+1) for x in range(len(s2))])"
   ]
  },
  {
   "cell_type": "code",
   "execution_count": 3,
   "metadata": {},
   "outputs": [],
   "source": [
    "import numpy as np"
   ]
  },
  {
   "cell_type": "code",
   "execution_count": 4,
   "metadata": {},
   "outputs": [
    {
     "name": "stdout",
     "output_type": "stream",
     "text": [
      "18 ms ± 258 µs per loop (mean ± std. dev. of 7 runs, 100 loops each)\n"
     ]
    }
   ],
   "source": [
    "%%timeit\n",
    "# Define two sequences\n",
    "s1 = list(np.random.randint(0,5,1000))\n",
    "s2 = list(np.random.randint(0,5,1000))\n",
    "# Create an instance of the LCSFinder class\n",
    "lcs_finder = lcs_list_typed.LCSFinder(s1, s2)\n",
    "lcs_finder.GetSA()\n",
    "# original code SA\n",
    "# (8, 7, 6, 1, 13, 2, 16, 5, 0, 12, 15, 4, 11, 14, 3, 10, 9)\n",
    "lcs_finder.GetS() \n",
    "lcs_finder.ComputeAllLCSs([(x,x+1) for x in range(len(s2))])\n"
   ]
  },
  {
   "cell_type": "markdown",
   "metadata": {},
   "source": [
    "# Debugging"
   ]
  },
  {
   "cell_type": "code",
   "execution_count": 9,
   "metadata": {},
   "outputs": [],
   "source": [
    "from LCS import LCSFinder\n",
    "import numpy as np"
   ]
  },
  {
   "cell_type": "code",
   "execution_count": 10,
   "metadata": {},
   "outputs": [],
   "source": [
    "s1 = np.array([1, 1, 3, 0, 4, 1, 4, 4, 2, 1])\n",
    "s2 = np.array([0, 1, 0, 1, 3, 2, 1, 4, 0, 0])"
   ]
  },
  {
   "cell_type": "code",
   "execution_count": 11,
   "metadata": {},
   "outputs": [
    {
     "name": "stdout",
     "output_type": "stream",
     "text": [
      "11 0 0\n",
      "12 1 1\n",
      "13 2 0\n",
      "14 3 0\n",
      "15 4 0\n",
      "16 5 0\n",
      "17 6 0\n",
      "18 7 1\n",
      "19 8 0\n",
      "20 9 0\n"
     ]
    },
    {
     "data": {
      "text/plain": [
       "[1, 2, 1, 1, 1, 1, 1, 2, 1, 1]"
      ]
     },
     "execution_count": 11,
     "metadata": {},
     "output_type": "execute_result"
    }
   ],
   "source": [
    "lcs_finder = LCSFinder(s2, s1)\n",
    "[x+1 for x in lcs_finder.ComputeAllLCSs([(x,x+1) for x in range(len(s2))])]"
   ]
  },
  {
   "cell_type": "code",
   "execution_count": 9,
   "metadata": {},
   "outputs": [
    {
     "data": {
      "text/plain": [
       "[1, 2, 1, 2, 1, 2, 1, 2, 3, 2]"
      ]
     },
     "execution_count": 9,
     "metadata": {},
     "output_type": "execute_result"
    }
   ],
   "source": [
    "[x+1 for x in [0, 1, 0, 1, 0, 1, 0, 1, 2, 1]]"
   ]
  },
  {
   "cell_type": "code",
   "execution_count": 6,
   "metadata": {},
   "outputs": [
    {
     "name": "stdout",
     "output_type": "stream",
     "text": [
      "False False False 4 6\n",
      "True True False 4 6\n",
      "True True False 4 6\n",
      "True True False 3 5\n",
      "True True False 1 2\n"
     ]
    },
    {
     "data": {
      "text/plain": [
       "0"
      ]
     },
     "execution_count": 6,
     "metadata": {},
     "output_type": "execute_result"
    }
   ],
   "source": [
    "\n",
    "lcs_finder.FindLCP(13,9)"
   ]
  },
  {
   "cell_type": "code",
   "execution_count": null,
   "metadata": {},
   "outputs": [],
   "source": [
    "01001001012010"
   ]
  },
  {
   "cell_type": "code",
   "execution_count": null,
   "metadata": {},
   "outputs": [],
   "source": [
    "array([1, 2, 1, 1, 2, 1, 3, 2, 2, 2])"
   ]
  },
  {
   "cell_type": "code",
   "execution_count": 4,
   "metadata": {},
   "outputs": [
    {
     "name": "stdout",
     "output_type": "stream",
     "text": [
      "11 0 0\n",
      "12 1 1\n",
      "13 2 0\n",
      "14 3 0\n",
      "15 4 0\n",
      "16 5 0\n",
      "17 6 0\n",
      "18 7 1\n",
      "19 8 0\n",
      "20 9 0\n"
     ]
    },
    {
     "data": {
      "text/plain": [
       "[0, 1, 0, 0, 0, 0, 0, 1, 0, 0]"
      ]
     },
     "execution_count": 4,
     "metadata": {},
     "output_type": "execute_result"
    }
   ],
   "source": [
    "lcs_finder = LCSFinder(s1, s2)\n",
    "lcs_finder.GetSA()\n",
    "lcs_finder.GetS() \n",
    "lcs_finder.ComputeAllLCSs([(x,x+1) for x in range(len(s2))])"
   ]
  },
  {
   "cell_type": "code",
   "execution_count": null,
   "metadata": {},
   "outputs": [],
   "source": [
    "         2 2 4 1 5 2 5 5 3 2 0 1 2 1 2 4 3 2 5 1 1\n",
    "Rank is: 2 2 4 1 5 2 5 5 3 2 0 1 2 1 2 4 3 2 5 1 1 \n",
    "\n",
    "p is: 1\n",
    "         2 2 4 1 5 2 5 5 3 2 0 1 2 1 2 4 3 2 5 1 1\n",
    "Rank is: 2 2 4 1 5 2 5 5 3 2 0 1 2 1 2 4 3 2 5 1 1 \n",
    "                0 1 2 3 4 5 6 7 8 9 10 11 12 13 14 15 16 17 18 19 20\n",
    "Sorted aray is: 0 1 2 3 4 5 6 7 8 9 10 11 12 13 14 15 16 17 18 19 20 \n",
    "                     10 20 19 11 13 3 9 12 0 1 14 5 17 8 16 2 15 18 4 7 6\n",
    "Post Sorted aray is: 10 20 19 11 13 3 9 12 0 1 14 5 17 8 16 2 15 18 4 7 6 \n",
    "\n",
    "p is: 2\n",
    "         7 8 11 4 14 9 16 15 10 5 0 3 6 3 8 12 10 9 13 2 1\n",
    "Rank is: 7 8 11 4 14 9 16 15 10 5 0 3 6 3 8 12 10 9 13 2 1 \n",
    "                10 20 19 11 13 3 9 12 0 1 14 5 17 8 16 2 15 18 4 7 6\n",
    "Sorted aray is: 10 20 19 11 13 3 9 12 0 1 14 5 17 8 16 2 15 18 4 7 6 \n",
    "                     10 20 19 11 13 3 9 12 0 1 14 17 5 8 16 2 15 18 4 7 6\n",
    "Post Sorted aray is: 10 20 19 11 13 3 9 12 0 1 14 17 5 8 16 2 15 18 4 7 6 \n",
    "\n",
    "p is: 4\n",
    "         8 9 15 5 18 12 20 19 13 6 0 3 7 4 10 16 14 11 17 2 1\n",
    "Rank is: 8 9 15 5 18 12 20 19 13 6 0 3 7 4 10 16 14 11 17 2 1 \n",
    "                10 20 19 11 13 3 9 12 0 1 14 17 5 8 16 2 15 18 4 7 6\n",
    "Sorted aray is: 10 20 19 11 13 3 9 12 0 1 14 17 5 8 16 2 15 18 4 7 6 \n",
    "                     10 20 19 11 13 3 9 12 0 1 14 17 5 8 16 2 15 18 4 7 6\n",
    "Post Sorted aray is: 10 20 19 11 13 3 9 12 0 1 14 17 5 8 16 2 15 18 4 7 6 \n",
    "\n",
    "p is: 8\n",
    "         8 9 15 5 18 12 20 19 13 6 0 3 7 4 10 16 14 11 17 2 1\n",
    "Rank is: 8 9 15 5 18 12 20 19 13 6 0 3 7 4 10 16 14 11 17 2 1 \n",
    "                10 20 19 11 13 3 9 12 0 1 14 17 5 8 16 2 15 18 4 7 6\n",
    "Sorted aray is: 10 20 19 11 13 3 9 12 0 1 14 17 5 8 16 2 15 18 4 7 6 \n",
    "                     10 20 19 11 13 3 9 12 0 1 14 17 5 8 16 2 15 18 4 7 6\n",
    "Post Sorted aray is: 10 20 19 11 13 3 9 12 0 1 14 17 5 8 16 2 15 18 4 7 6 \n",
    "\n",
    "p is: 16\n",
    "         8 9 15 5 18 12 20 19 13 6 0 3 7 4 10 16 14 11 17 2 1\n",
    "Rank is: 8 9 15 5 18 12 20 19 13 6 0 3 7 4 10 16 14 11 17 2 1 \n",
    "                10 20 19 11 13 3 9 12 0 1 14 17 5 8 16 2 15 18 4 7 6\n",
    "Sorted aray is: 10 20 19 11 13 3 9 12 0 1 14 17 5 8 16 2 15 18 4 7 6 \n",
    "                     10 20 19 11 13 3 9 12 0 1 14 17 5 8 16 2 15 18 4 7 6\n",
    "Post Sorted aray is: 10 20 19 11 13 3 9 12 0 1 14 17 5 8 16 2 15 18 4 7 6 \n",
    "\n",
    "Final suffix aray is: 10 20 19 11 13 3 9 12 0 1 14 17 5 8 16 2 15 18 4 7 6 \n",
    "                     (10 20 19 11 13 3 9 12 0 1 14 17 5 8 16 2 15 18 4 7 6)"
   ]
  }
 ],
 "metadata": {
  "kernelspec": {
   "display_name": "FastEntropy",
   "language": "python",
   "name": "python3"
  },
  "language_info": {
   "codemirror_mode": {
    "name": "ipython",
    "version": 3
   },
   "file_extension": ".py",
   "mimetype": "text/x-python",
   "name": "python",
   "nbconvert_exporter": "python",
   "pygments_lexer": "ipython3",
   "version": "3.9.16"
  },
  "orig_nbformat": 4,
  "vscode": {
   "interpreter": {
    "hash": "dee4ddf64dc47e7af4ac152e3c0bd4c4411732d2ad40e4334a13e38a97cc73c3"
   }
  }
 },
 "nbformat": 4,
 "nbformat_minor": 2
}
